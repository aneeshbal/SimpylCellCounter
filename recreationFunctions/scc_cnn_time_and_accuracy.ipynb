{
  "nbformat": 4,
  "nbformat_minor": 0,
  "metadata": {
    "colab": {
      "name": "scc_cnn_time_and_accuracy.ipynb",
      "provenance": [],
      "collapsed_sections": [
        "jeDmE5nUL00y",
        "Oo-SAi6V3wci",
        "9sDuAyVyvvwc"
      ],
      "toc_visible": true,
      "authorship_tag": "ABX9TyNzcxR7OKs8qC2FmEd8GpXK",
      "include_colab_link": true
    },
    "kernelspec": {
      "name": "python3",
      "display_name": "Python 3"
    },
    "widgets": {
      "application/vnd.jupyter.widget-state+json": {
        "58f9053d8f40439f8c02271fd032e117": {
          "model_module": "@jupyter-widgets/controls",
          "model_name": "HBoxModel",
          "state": {
            "_view_name": "HBoxView",
            "_dom_classes": [],
            "_model_name": "HBoxModel",
            "_view_module": "@jupyter-widgets/controls",
            "_model_module_version": "1.5.0",
            "_view_count": null,
            "_view_module_version": "1.5.0",
            "box_style": "",
            "layout": "IPY_MODEL_c153ec232c364e9b838b1039022e2ea2",
            "_model_module": "@jupyter-widgets/controls",
            "children": [
              "IPY_MODEL_f6bd3dbb33474987bb63a262077e4c56",
              "IPY_MODEL_68d948846b554c478d8ce0aed973c21c"
            ]
          }
        },
        "c153ec232c364e9b838b1039022e2ea2": {
          "model_module": "@jupyter-widgets/base",
          "model_name": "LayoutModel",
          "state": {
            "_view_name": "LayoutView",
            "grid_template_rows": null,
            "right": null,
            "justify_content": null,
            "_view_module": "@jupyter-widgets/base",
            "overflow": null,
            "_model_module_version": "1.2.0",
            "_view_count": null,
            "flex_flow": null,
            "width": null,
            "min_width": null,
            "border": null,
            "align_items": null,
            "bottom": null,
            "_model_module": "@jupyter-widgets/base",
            "top": null,
            "grid_column": null,
            "overflow_y": null,
            "overflow_x": null,
            "grid_auto_flow": null,
            "grid_area": null,
            "grid_template_columns": null,
            "flex": null,
            "_model_name": "LayoutModel",
            "justify_items": null,
            "grid_row": null,
            "max_height": null,
            "align_content": null,
            "visibility": null,
            "align_self": null,
            "height": null,
            "min_height": null,
            "padding": null,
            "grid_auto_rows": null,
            "grid_gap": null,
            "max_width": null,
            "order": null,
            "_view_module_version": "1.2.0",
            "grid_template_areas": null,
            "object_position": null,
            "object_fit": null,
            "grid_auto_columns": null,
            "margin": null,
            "display": null,
            "left": null
          }
        },
        "f6bd3dbb33474987bb63a262077e4c56": {
          "model_module": "@jupyter-widgets/controls",
          "model_name": "IntProgressModel",
          "state": {
            "_view_name": "ProgressView",
            "style": "IPY_MODEL_f866c3b7ecca4241bb4f62c7b1e41d80",
            "_dom_classes": [],
            "description": "100%",
            "_model_name": "IntProgressModel",
            "bar_style": "success",
            "max": 1000,
            "_view_module": "@jupyter-widgets/controls",
            "_model_module_version": "1.5.0",
            "value": 1000,
            "_view_count": null,
            "_view_module_version": "1.5.0",
            "orientation": "horizontal",
            "min": 0,
            "description_tooltip": null,
            "_model_module": "@jupyter-widgets/controls",
            "layout": "IPY_MODEL_079c238aec50473f86873099aca1f040"
          }
        },
        "68d948846b554c478d8ce0aed973c21c": {
          "model_module": "@jupyter-widgets/controls",
          "model_name": "HTMLModel",
          "state": {
            "_view_name": "HTMLView",
            "style": "IPY_MODEL_955b361f77424cac9b1b31cc90e60042",
            "_dom_classes": [],
            "description": "",
            "_model_name": "HTMLModel",
            "placeholder": "​",
            "_view_module": "@jupyter-widgets/controls",
            "_model_module_version": "1.5.0",
            "value": " 1000/1000 [2:12:57&lt;00:00,  7.98s/it]",
            "_view_count": null,
            "_view_module_version": "1.5.0",
            "description_tooltip": null,
            "_model_module": "@jupyter-widgets/controls",
            "layout": "IPY_MODEL_849186b0b26b4b638a3abb5d753100a3"
          }
        },
        "f866c3b7ecca4241bb4f62c7b1e41d80": {
          "model_module": "@jupyter-widgets/controls",
          "model_name": "ProgressStyleModel",
          "state": {
            "_view_name": "StyleView",
            "_model_name": "ProgressStyleModel",
            "description_width": "initial",
            "_view_module": "@jupyter-widgets/base",
            "_model_module_version": "1.5.0",
            "_view_count": null,
            "_view_module_version": "1.2.0",
            "bar_color": null,
            "_model_module": "@jupyter-widgets/controls"
          }
        },
        "079c238aec50473f86873099aca1f040": {
          "model_module": "@jupyter-widgets/base",
          "model_name": "LayoutModel",
          "state": {
            "_view_name": "LayoutView",
            "grid_template_rows": null,
            "right": null,
            "justify_content": null,
            "_view_module": "@jupyter-widgets/base",
            "overflow": null,
            "_model_module_version": "1.2.0",
            "_view_count": null,
            "flex_flow": null,
            "width": null,
            "min_width": null,
            "border": null,
            "align_items": null,
            "bottom": null,
            "_model_module": "@jupyter-widgets/base",
            "top": null,
            "grid_column": null,
            "overflow_y": null,
            "overflow_x": null,
            "grid_auto_flow": null,
            "grid_area": null,
            "grid_template_columns": null,
            "flex": null,
            "_model_name": "LayoutModel",
            "justify_items": null,
            "grid_row": null,
            "max_height": null,
            "align_content": null,
            "visibility": null,
            "align_self": null,
            "height": null,
            "min_height": null,
            "padding": null,
            "grid_auto_rows": null,
            "grid_gap": null,
            "max_width": null,
            "order": null,
            "_view_module_version": "1.2.0",
            "grid_template_areas": null,
            "object_position": null,
            "object_fit": null,
            "grid_auto_columns": null,
            "margin": null,
            "display": null,
            "left": null
          }
        },
        "955b361f77424cac9b1b31cc90e60042": {
          "model_module": "@jupyter-widgets/controls",
          "model_name": "DescriptionStyleModel",
          "state": {
            "_view_name": "StyleView",
            "_model_name": "DescriptionStyleModel",
            "description_width": "",
            "_view_module": "@jupyter-widgets/base",
            "_model_module_version": "1.5.0",
            "_view_count": null,
            "_view_module_version": "1.2.0",
            "_model_module": "@jupyter-widgets/controls"
          }
        },
        "849186b0b26b4b638a3abb5d753100a3": {
          "model_module": "@jupyter-widgets/base",
          "model_name": "LayoutModel",
          "state": {
            "_view_name": "LayoutView",
            "grid_template_rows": null,
            "right": null,
            "justify_content": null,
            "_view_module": "@jupyter-widgets/base",
            "overflow": null,
            "_model_module_version": "1.2.0",
            "_view_count": null,
            "flex_flow": null,
            "width": null,
            "min_width": null,
            "border": null,
            "align_items": null,
            "bottom": null,
            "_model_module": "@jupyter-widgets/base",
            "top": null,
            "grid_column": null,
            "overflow_y": null,
            "overflow_x": null,
            "grid_auto_flow": null,
            "grid_area": null,
            "grid_template_columns": null,
            "flex": null,
            "_model_name": "LayoutModel",
            "justify_items": null,
            "grid_row": null,
            "max_height": null,
            "align_content": null,
            "visibility": null,
            "align_self": null,
            "height": null,
            "min_height": null,
            "padding": null,
            "grid_auto_rows": null,
            "grid_gap": null,
            "max_width": null,
            "order": null,
            "_view_module_version": "1.2.0",
            "grid_template_areas": null,
            "object_position": null,
            "object_fit": null,
            "grid_auto_columns": null,
            "margin": null,
            "display": null,
            "left": null
          }
        }
      }
    }
  },
  "cells": [
    {
      "cell_type": "markdown",
      "metadata": {
        "id": "view-in-github",
        "colab_type": "text"
      },
      "source": [
        "<a href=\"https://colab.research.google.com/github/aneeshbal/SimpylCellCounter/blob/master/recreationFunctions/scc_cnn_time_and_accuracy.ipynb\" target=\"_parent\"><img src=\"https://colab.research.google.com/assets/colab-badge.svg\" alt=\"Open In Colab\"/></a>"
      ]
    },
    {
      "cell_type": "markdown",
      "metadata": {
        "id": "Bw0NPNVKGBoB",
        "colab_type": "text"
      },
      "source": [
        "## Initialize Session"
      ]
    },
    {
      "cell_type": "code",
      "metadata": {
        "id": "ivVfOEbnF_7L",
        "colab_type": "code",
        "colab": {}
      },
      "source": [
        "import numpy as np\n",
        "import cv2\n",
        "import matplotlib.pyplot as plt\n",
        "import time\n",
        "import pandas as pd\n",
        "import math\n",
        "\n",
        "import tensorflow as tf\n",
        "from tensorflow.keras.models import load_model"
      ],
      "execution_count": 0,
      "outputs": []
    },
    {
      "cell_type": "code",
      "metadata": {
        "id": "AQontg1TGII3",
        "colab_type": "code",
        "outputId": "26fd9d2e-d826-42a9-ea4f-b204940b138a",
        "colab": {
          "base_uri": "https://localhost:8080/",
          "height": 54
        }
      },
      "source": [
        "from google.colab import drive\n",
        "drive.mount('/content/drive')"
      ],
      "execution_count": 17,
      "outputs": [
        {
          "output_type": "stream",
          "text": [
            "Drive already mounted at /content/drive; to attempt to forcibly remount, call drive.mount(\"/content/drive\", force_remount=True).\n"
          ],
          "name": "stdout"
        }
      ]
    },
    {
      "cell_type": "markdown",
      "metadata": {
        "id": "AiVtZpheGZEp",
        "colab_type": "text"
      },
      "source": [
        "## Define Functions"
      ]
    },
    {
      "cell_type": "code",
      "metadata": {
        "id": "aG8GQ2dBGaLg",
        "colab_type": "code",
        "colab": {}
      },
      "source": [
        "def createImg(num_of_objects):\n",
        "    \n",
        "    global im, sizes, intensities\n",
        "    \n",
        "    im = np.random.randint(165, 200, size = (1460,1920)).astype('uint8')\n",
        "    obj_num = num_of_objects\n",
        "    circle_centers = np.random.randint(100, 1300, size = (obj_num, 2))\n",
        "    intensities = np.random.randint(80, 90, size = (obj_num, 1)).astype('int')\n",
        "    sizes = np.random.randint(15, 25, size = (obj_num, 1)).astype('int')\n",
        "\n",
        "    for jj in range(len(circle_centers)):\n",
        "        cv2.circle(im, (circle_centers[jj][0], circle_centers[jj][1]), sizes[jj], int(intensities[jj]), -1)\n",
        "        \n",
        "    ## blur image\n",
        "    im = cv2.medianBlur(im, 3)\n",
        "    im = cv2.GaussianBlur(im, (3,3), 9)   \n",
        "    return im"
      ],
      "execution_count": 0,
      "outputs": []
    },
    {
      "cell_type": "code",
      "metadata": {
        "id": "lMBnLJ2XIkUJ",
        "colab_type": "code",
        "colab": {}
      },
      "source": [
        "model = load_model('/content/drive/My Drive/SCC_1x/res_5x.h5')"
      ],
      "execution_count": 0,
      "outputs": []
    },
    {
      "cell_type": "markdown",
      "metadata": {
        "id": "jeDmE5nUL00y",
        "colab_type": "text"
      },
      "source": [
        "## Debug"
      ]
    },
    {
      "cell_type": "code",
      "metadata": {
        "id": "LWUKLKQRL7qP",
        "colab_type": "code",
        "outputId": "9f3bd6eb-58b5-4200-997b-8a5b19e21c55",
        "colab": {
          "base_uri": "https://localhost:8080/",
          "height": 286
        }
      },
      "source": [
        "img = createImg(150)\n",
        "plt.imshow(img, cmap=plt.cm.gray)"
      ],
      "execution_count": 0,
      "outputs": [
        {
          "output_type": "execute_result",
          "data": {
            "text/plain": [
              "<matplotlib.image.AxesImage at 0x7f8200627a58>"
            ]
          },
          "metadata": {
            "tags": []
          },
          "execution_count": 5
        },
        {
          "output_type": "display_data",
          "data": {
            "image/png": "[encoded data removed]",
            "text/plain": [
              "<Figure size 432x288 with 1 Axes>"
            ]
          },
          "metadata": {
            "tags": [],
            "needs_background": "light"
          }
        }
      ]
    },
    {
      "cell_type": "markdown",
      "metadata": {
        "id": "Oo-SAi6V3wci",
        "colab_type": "text"
      },
      "source": [
        "## In Print"
      ]
    },
    {
      "cell_type": "code",
      "metadata": {
        "id": "kDe-1_cN3x5U",
        "colab_type": "code",
        "outputId": "8c75604c-9ed3-48c3-eed9-769fbef9b055",
        "colab": {
          "base_uri": "https://localhost:8080/",
          "height": 34
        }
      },
      "source": [
        "set_th_value=150; radius=10; circularity_parameter=0.77\n",
        "\n",
        "area_parameter = (3.14*radius**2)/0.95 # do NOT change this formula!\n",
        "area_parameter = area_parameter/1.04 # do NOT change this formula!\n",
        "\n",
        "img = img\n",
        "th_value=set_th_value\n",
        "test_thresh, __ = cv2.threshold(img, 0, 255, cv2.THRESH_BINARY_INV + cv2.THRESH_OTSU)      \n",
        "if test_thresh < np.mean(img):\n",
        "    img = img\n",
        "else:\n",
        "    img = cv2.bitwise_not(img)    \n",
        "new_th, __ = cv2.threshold(img, 0, 255, cv2.THRESH_BINARY + cv2.THRESH_OTSU)\n",
        "if area_parameter > 200:\n",
        "    if th_value/np.mean(img) > 0.63:\n",
        "        a = 5; b = 3; th_value = th_value; sig = 'first'   \n",
        "        if th_value > new_th:\n",
        "            a = 5; b = 3; th_value = new_th\n",
        "    else:\n",
        "        a = 3; b = 1                            \n",
        "else:    \n",
        "    if th_value > new_th:\n",
        "        a = 3; b = 1; th_value = new_th\n",
        "    else:            \n",
        "        a = 3; b = 1; sig = 'fifth'\n",
        "        \n",
        "ret, img2 = cv2.threshold(img, th_value, 255, cv2.THRESH_BINARY)\n",
        "c_function = cv2.medianBlur(img2, 5)\n",
        "c_function = cv2.morphologyEx(c_function, cv2.MORPH_CLOSE, np.ones((a,a)), iterations = b)\n",
        "d_function = cv2.erode(c_function, np.ones((1,1)), iterations = 1)\n",
        "  \n",
        "contours, hierarchy = cv2.findContours(d_function, cv2.RETR_TREE, cv2.CHAIN_APPROX_NONE)\n",
        "\n",
        "A = []\n",
        "df = []\n",
        "k = np.empty((1,2))\n",
        "for j in range(0, len(contours)):\n",
        "    M = cv2.moments(contours[j])\n",
        "    areas = M['m00']\n",
        "    A.append(areas)\n",
        "\n",
        "smallArea = np.where(np.array(A)<area_parameter)\n",
        "contours = np.delete(np.array(contours), np.asarray(smallArea).astype('int'))\n",
        "\n",
        "for j in range(0, len(contours)):\n",
        "    M = cv2.moments(contours[j])\n",
        "    huMoments = cv2.HuMoments(M)\n",
        "    huMoments = huMoments[0]\n",
        "    huMoments = -1*math.copysign(1.0, huMoments)*math.log10(abs(huMoments))\n",
        "    df.append(huMoments)\n",
        "\n",
        "df = np.array(df)\n",
        "multCirc = np.where(df<circularity_parameter)[0][1:]\n",
        "\n",
        "if len(multCirc) == 0:\n",
        "  counts = len(df)\n",
        "else:\n",
        "\n",
        "  c = [contours[i] for i in multCirc]\n",
        "  count_array = []\n",
        "  imgs = []\n",
        "  for h,cnt in enumerate(c):\n",
        "      mask = np.ones((img.shape[0]+100, img.shape[1]+100),np.uint8)\n",
        "      cv2.drawContours(mask,[cnt],0,0,-1)\n",
        "      (x,y,w,h) = cv2.boundingRect(cnt)\n",
        "      x1 = x-100; x2 = x+100; y1 = y-100; y2 = y+100\n",
        "      if x1<0:\n",
        "          x1=0\n",
        "      if y1<0:\n",
        "          y1=0\n",
        "      if x2<0:\n",
        "          x2=0\n",
        "      if y2<0:\n",
        "          y2=0\n",
        "      mask_subset = mask[y1:y2, x1:x2]\n",
        "      mask_subset_resize = cv2.resize(mask_subset, (100, 100))\n",
        "      im4 = tf.keras.utils.normalize(np.array(mask_subset_resize).reshape(-1, 100, 100, 1))\n",
        "      imgs.append(im4)\n",
        "  imgs = np.array(imgs)\n",
        "  if len(imgs.shape) > 4:\n",
        "    imgs = imgs.reshape(imgs.shape[0]*imgs.shape[1], 100, 100, 1)\n",
        "  count_array += [np.argmax(model.predict_on_batch(imgs))]\n",
        "      \n",
        "  #counts = len(df) + int(sum(np.array(count_array)))\n",
        "  counts = len(df)-len(multCirc)-1+int(sum(np.array(count_array)))\n",
        "print(counts)"
      ],
      "execution_count": 0,
      "outputs": [
        {
          "output_type": "stream",
          "text": [
            "11\n"
          ],
          "name": "stdout"
        }
      ]
    },
    {
      "cell_type": "code",
      "metadata": {
        "id": "Si5eHO6V07eP",
        "colab_type": "code",
        "outputId": "027f65db-7179-4a77-afc4-8c824770a837",
        "colab": {
          "base_uri": "https://localhost:8080/",
          "height": 51
        }
      },
      "source": [
        "%timeit model.predict(imgs)\n",
        "%timeit model.predict_on_batch(imgs)"
      ],
      "execution_count": 0,
      "outputs": [
        {
          "output_type": "stream",
          "text": [
            "10 loops, best of 3: 42.1 ms per loop\n",
            "10 loops, best of 3: 25.9 ms per loop\n"
          ],
          "name": "stdout"
        }
      ]
    },
    {
      "cell_type": "markdown",
      "metadata": {
        "id": "M9RsxReo3yRc",
        "colab_type": "text"
      },
      "source": [
        "## In Function"
      ]
    },
    {
      "cell_type": "code",
      "metadata": {
        "id": "Q6K4K7bRxc0j",
        "colab_type": "code",
        "colab": {}
      },
      "source": [
        "set_th_value=150; radius=10; circularity_parameter=0.77\n",
        "\n",
        "def scc(read, set_th_value=150, radius=10, circularity_parameter=0.77):\n",
        "  t1 = time.time()\n",
        "  area_parameter = (3.14*radius**2)/0.95 # do NOT change this formula!\n",
        "  area_parameter = area_parameter/1.04 # do NOT change this formula!\n",
        "\n",
        "  img = read\n",
        "  th_value=set_th_value\n",
        "  test_thresh, __ = cv2.threshold(img, 0, 255, cv2.THRESH_BINARY_INV + cv2.THRESH_OTSU)      \n",
        "  if test_thresh < np.mean(img):\n",
        "      img = img\n",
        "  else:\n",
        "      img = cv2.bitwise_not(img)    \n",
        "  new_th, __ = cv2.threshold(img, 0, 255, cv2.THRESH_BINARY + cv2.THRESH_OTSU)\n",
        "  if area_parameter > 200:\n",
        "      if th_value/np.mean(img) > 0.63:\n",
        "          a = 5; b = 3; th_value = th_value; sig = 'first'   \n",
        "          if th_value > new_th:\n",
        "              a = 5; b = 3; th_value = new_th\n",
        "      else:\n",
        "          a = 3; b = 1                            \n",
        "  else:    \n",
        "      if th_value > new_th:\n",
        "          a = 3; b = 1; th_value = new_th\n",
        "      else:            \n",
        "          a = 3; b = 1; sig = 'fifth'\n",
        "          \n",
        "  ret, img2 = cv2.threshold(img, th_value, 255, cv2.THRESH_BINARY)\n",
        "  c_function = cv2.medianBlur(img2, 5)\n",
        "  c_function = cv2.morphologyEx(c_function, cv2.MORPH_CLOSE, np.ones((a,a)), iterations = b)\n",
        "  d_function = cv2.erode(c_function, np.ones((1,1)), iterations = 1)\n",
        "    \n",
        "  contours, hierarchy = cv2.findContours(d_function, cv2.RETR_TREE, cv2.CHAIN_APPROX_NONE)\n",
        "\n",
        "  A = []\n",
        "  df = []\n",
        "  k = np.empty((1,2))\n",
        "  for j in range(0, len(contours)):\n",
        "      M = cv2.moments(contours[j])\n",
        "      areas = M['m00']\n",
        "      A.append(areas)\n",
        "\n",
        "  smallArea = np.where(np.array(A)<area_parameter)\n",
        "  contours = np.delete(np.array(contours), np.asarray(smallArea).astype('int'))\n",
        "\n",
        "  for j in range(0, len(contours)):\n",
        "      M = cv2.moments(contours[j])\n",
        "      huMoments = cv2.HuMoments(M)\n",
        "      huMoments = huMoments[0]\n",
        "      huMoments = -1*math.copysign(1.0, huMoments)*math.log10(abs(huMoments))\n",
        "      df.append(huMoments)\n",
        "\n",
        "  df = np.array(df)\n",
        "  multCirc = np.where(df<circularity_parameter)[0][1:]\n",
        "  if len(multCirc) == 0:\n",
        "    counts = len(df)\n",
        "  else:\n",
        "    c = [contours[i] for i in multCirc]\n",
        "    count_array = []\n",
        "    imgs = []\n",
        "    for h,cnt in enumerate(c):\n",
        "        mask = np.ones((img.shape[0]+100, img.shape[1]+100),np.uint8)\n",
        "        cv2.drawContours(mask,[cnt],0,0,-1)\n",
        "        (x,y,w,h) = cv2.boundingRect(cnt)\n",
        "        x1 = x-100; x2 = x+100; y1 = y-100; y2 = y+100\n",
        "        if x1<0:\n",
        "            x1=0\n",
        "        if y1<0:\n",
        "            y1=0\n",
        "        if x2<0:\n",
        "            x2=0\n",
        "        if y2<0:\n",
        "            y2=0\n",
        "        mask_subset = mask[y1:y2, x1:x2]\n",
        "        mask_subset_resize = cv2.resize(mask_subset, (100, 100))\n",
        "        im4 = tf.keras.utils.normalize(np.array(mask_subset_resize).reshape(-1, 100, 100, 1))\n",
        "        count_array += [np.argmax(model.predict(im4))]\n",
        "\n",
        "    counts = len(df)-len(multCirc)-1+int(sum(np.array(count_array)))\n",
        "    t2 = time.time()\n",
        "    times = t2-t1\n",
        "  #return counts\n",
        "  return counts"
      ],
      "execution_count": 0,
      "outputs": []
    },
    {
      "cell_type": "code",
      "metadata": {
        "id": "H2TJKHjL03Pt",
        "colab_type": "code",
        "colab": {}
      },
      "source": [
        "def scc_wo_cnn(read, set_th_value=150, radius=10, circularity_parameter=0.77):\n",
        "  t1 = time.time()\n",
        "  area_parameter = (3.14*radius**2)/0.95 # do NOT change this formula!\n",
        "  area_parameter = area_parameter/1.04 # do NOT change this formula!\n",
        "\n",
        "  img = read\n",
        "  th_value=set_th_value\n",
        "  test_thresh, __ = cv2.threshold(img, 0, 255, cv2.THRESH_BINARY_INV + cv2.THRESH_OTSU)      \n",
        "  if test_thresh < np.mean(img):\n",
        "      img = img\n",
        "  else:\n",
        "      img = cv2.bitwise_not(img)    \n",
        "  new_th, __ = cv2.threshold(img, 0, 255, cv2.THRESH_BINARY + cv2.THRESH_OTSU)\n",
        "  if area_parameter > 200:\n",
        "      if th_value/np.mean(img) > 0.63:\n",
        "          a = 5; b = 3; th_value = th_value; sig = 'first'   \n",
        "          if th_value > new_th:\n",
        "              a = 5; b = 3; th_value = new_th\n",
        "      else:\n",
        "          a = 3; b = 1                            \n",
        "  else:    \n",
        "      if th_value > new_th:\n",
        "          a = 3; b = 1; th_value = new_th\n",
        "      else:            \n",
        "          a = 3; b = 1; sig = 'fifth'\n",
        "          \n",
        "  ret, img2 = cv2.threshold(img, th_value, 255, cv2.THRESH_BINARY)\n",
        "  c_function = cv2.medianBlur(img2, 5)\n",
        "  c_function = cv2.morphologyEx(c_function, cv2.MORPH_CLOSE, np.ones((a,a)), iterations = b)\n",
        "  d_function = cv2.erode(c_function, np.ones((1,1)), iterations = 1)\n",
        "    \n",
        "  contours, hierarchy = cv2.findContours(d_function, cv2.RETR_TREE, cv2.CHAIN_APPROX_NONE)\n",
        "\n",
        "  A = []\n",
        "  df = []\n",
        "  k = np.empty((1,2))\n",
        "  for j in range(0, len(contours)):\n",
        "      M = cv2.moments(contours[j])\n",
        "      areas = M['m00']\n",
        "      A.append(areas)\n",
        "\n",
        "  smallArea = np.where(np.array(A)<area_parameter)\n",
        "  contours = np.delete(np.array(contours), np.asarray(smallArea).astype('int'))\n",
        "\n",
        "  for j in range(0, len(contours)):\n",
        "      M = cv2.moments(contours[j])\n",
        "      huMoments = cv2.HuMoments(M)\n",
        "      huMoments = huMoments[0]\n",
        "      huMoments = -1*math.copysign(1.0, huMoments)*math.log10(abs(huMoments))\n",
        "      df.append(huMoments)\n",
        "\n",
        "  df = np.array(df)\n",
        "  multCirc = np.where(df<circularity_parameter)[0][1:]\n",
        "  c = [contours[i] for i in multCirc]\n",
        "  count_array = []\n",
        "  \n",
        "  counts = len(df) \n",
        "  t2 = time.time()\n",
        "  times = t2-t1\n",
        "  #return counts\n",
        "  return counts"
      ],
      "execution_count": 0,
      "outputs": []
    },
    {
      "cell_type": "code",
      "metadata": {
        "id": "J3or7Uo-zgR8",
        "colab_type": "code",
        "colab": {}
      },
      "source": [
        "def scc_mult_circ(read, set_th_value=150, radius=10, circularity_parameter=0.77):\n",
        "  t1 = time.time()\n",
        "  area_parameter = (3.14*radius**2)/0.95 # do NOT change this formula!\n",
        "  area_parameter = area_parameter/1.04 # do NOT change this formula!\n",
        "\n",
        "  img = read\n",
        "  th_value=set_th_value\n",
        "  test_thresh, __ = cv2.threshold(img, 0, 255, cv2.THRESH_BINARY_INV + cv2.THRESH_OTSU)      \n",
        "  if test_thresh < np.mean(img):\n",
        "      img = img\n",
        "  else:\n",
        "      img = cv2.bitwise_not(img)    \n",
        "  new_th, __ = cv2.threshold(img, 0, 255, cv2.THRESH_BINARY + cv2.THRESH_OTSU)\n",
        "  if area_parameter > 200:\n",
        "      if th_value/np.mean(img) > 0.63:\n",
        "          a = 5; b = 3; th_value = th_value; sig = 'first'   \n",
        "          if th_value > new_th:\n",
        "              a = 5; b = 3; th_value = new_th\n",
        "      else:\n",
        "          a = 3; b = 1                            \n",
        "  else:    \n",
        "      if th_value > new_th:\n",
        "          a = 3; b = 1; th_value = new_th\n",
        "      else:            \n",
        "          a = 3; b = 1; sig = 'fifth'\n",
        "          \n",
        "  ret, img2 = cv2.threshold(img, th_value, 255, cv2.THRESH_BINARY)\n",
        "  c_function = cv2.medianBlur(img2, 5)\n",
        "  c_function = cv2.morphologyEx(c_function, cv2.MORPH_CLOSE, np.ones((a,a)), iterations = b)\n",
        "  d_function = cv2.erode(c_function, np.ones((1,1)), iterations = 1)\n",
        "    \n",
        "  contours, hierarchy = cv2.findContours(d_function, cv2.RETR_TREE, cv2.CHAIN_APPROX_NONE)\n",
        "\n",
        "  A = []\n",
        "  df = []\n",
        "  k = np.empty((1,2))\n",
        "  for j in range(0, len(contours)):\n",
        "      M = cv2.moments(contours[j])\n",
        "      areas = M['m00']\n",
        "      A.append(areas)\n",
        "\n",
        "  smallArea = np.where(np.array(A)<area_parameter)\n",
        "  contours = np.delete(np.array(contours), np.asarray(smallArea).astype('int'))\n",
        "\n",
        "  for j in range(0, len(contours)):\n",
        "      M = cv2.moments(contours[j])\n",
        "      huMoments = cv2.HuMoments(M)\n",
        "      huMoments = huMoments[0]\n",
        "      huMoments = -1*math.copysign(1.0, huMoments)*math.log10(abs(huMoments))\n",
        "      df.append(huMoments)\n",
        "\n",
        "  df = np.array(df)\n",
        "  multCirc = np.where(df<circularity_parameter)[0][1:]\n",
        "  c = [contours[i] for i in multCirc]\n",
        "  count_array = []\n",
        "  \n",
        "  counts = len(df) \n",
        "  t2 = time.time()\n",
        "  times = t2-t1\n",
        "  #return counts\n",
        "  return len(multCirc)"
      ],
      "execution_count": 0,
      "outputs": []
    },
    {
      "cell_type": "markdown",
      "metadata": {
        "id": "9sDuAyVyvvwc",
        "colab_type": "text"
      },
      "source": [
        "## Run Time"
      ]
    },
    {
      "cell_type": "code",
      "metadata": {
        "id": "bZKA1PYIv0EH",
        "colab_type": "code",
        "outputId": "fda5a14a-de40-4183-f2ee-52b62b8119d5",
        "colab": {
          "base_uri": "https://localhost:8080/",
          "height": 51
        }
      },
      "source": [
        "img = createImg(30)\n",
        "%timeit scc(img)\n",
        "%timeit scc_wo_cnn(img)"
      ],
      "execution_count": 86,
      "outputs": [
        {
          "output_type": "stream",
          "text": [
            "1 loop, best of 3: 364 ms per loop\n",
            "10 loops, best of 3: 34.5 ms per loop\n"
          ],
          "name": "stdout"
        }
      ]
    },
    {
      "cell_type": "markdown",
      "metadata": {
        "id": "eQQnbGABYvxt",
        "colab_type": "text"
      },
      "source": [
        "## Run Accuracy"
      ]
    },
    {
      "cell_type": "code",
      "metadata": {
        "id": "dASM_j_zY6BK",
        "colab_type": "code",
        "colab": {
          "base_uri": "https://localhost:8080/",
          "height": 66,
          "referenced_widgets": [
            "58f9053d8f40439f8c02271fd032e117",
            "c153ec232c364e9b838b1039022e2ea2",
            "f6bd3dbb33474987bb63a262077e4c56",
            "68d948846b554c478d8ce0aed973c21c",
            "f866c3b7ecca4241bb4f62c7b1e41d80",
            "079c238aec50473f86873099aca1f040",
            "955b361f77424cac9b1b31cc90e60042",
            "849186b0b26b4b638a3abb5d753100a3"
          ]
        },
        "outputId": "a49f8efd-1192-4477-8ee9-446744200d11"
      },
      "source": [
        "from tqdm.notebook import tqdm\n",
        "\n",
        "raw = []\n",
        "cnn = []\n",
        "wo_cnn = []\n",
        "overlaps = []\n",
        "for j in tqdm(range(0, 1000)):\n",
        "  num_objects = np.random.randint(1, 200)\n",
        "  img = createImg(num_objects)\n",
        "  raw.append(num_objects)\n",
        "  cnn.append(scc(img))\n",
        "  wo_cnn.append(scc_wo_cnn(img))\n",
        "  overlaps.append(scc_mult_circ(img))"
      ],
      "execution_count": 46,
      "outputs": [
        {
          "output_type": "display_data",
          "data": {
            "application/vnd.jupyter.widget-view+json": {
              "model_id": "58f9053d8f40439f8c02271fd032e117",
              "version_minor": 0,
              "version_major": 2
            },
            "text/plain": [
              "HBox(children=(IntProgress(value=0, max=1000), HTML(value='')))"
            ]
          },
          "metadata": {
            "tags": []
          }
        },
        {
          "output_type": "stream",
          "text": [
            "\n"
          ],
          "name": "stdout"
        }
      ]
    },
    {
      "cell_type": "code",
      "metadata": {
        "id": "kYK0mnkWbB_D",
        "colab_type": "code",
        "outputId": "dfa66dba-2688-49af-db6e-5fae8ae7c110",
        "colab": {
          "base_uri": "https://localhost:8080/",
          "height": 300
        }
      },
      "source": [
        "plt.plot(raw, cnn, 'o')\n",
        "plt.plot(raw, wo_cnn, 'o')\n",
        "plt.legend(['cnn', 'wo_cnn'])\n",
        "print(np.corrcoef(raw, cnn)[0,1])\n",
        "print(np.corrcoef(raw, wo_cnn)[0,1])"
      ],
      "execution_count": 47,
      "outputs": [
        {
          "output_type": "stream",
          "text": [
            "0.9975368972882209\n",
            "0.9900874977022934\n"
          ],
          "name": "stdout"
        },
        {
          "output_type": "display_data",
          "data": {
            "image/png": "[encoded data removed]",
            "text/plain": [
              "<Figure size 432x288 with 1 Axes>"
            ]
          },
          "metadata": {
            "tags": [],
            "needs_background": "light"
          }
        }
      ]
    },
    {
      "cell_type": "code",
      "metadata": {
        "id": "9RRyA4U63uDC",
        "colab_type": "code",
        "outputId": "a3abe4ca-1651-48b8-e74d-56baaa770eba",
        "colab": {
          "base_uri": "https://localhost:8080/",
          "height": 51
        }
      },
      "source": [
        "cnn_sub = np.abs(np.array(raw)-np.array(cnn))\n",
        "wo_cnn_sub = np.abs(np.array(raw)-np.array(wo_cnn))\n",
        "\n",
        "cnn_mean = np.mean(cnn_sub)\n",
        "wo_cnn_mean = np.mean(wo_cnn_sub)\n",
        "\n",
        "cnn_sem = np.std(cnn_sub)/np.sqrt(len(cnn_sub))\n",
        "wo_cnn_sem = np.std(wo_cnn_sub)/np.sqrt(len(wo_cnn_sub))\n",
        "\n",
        "print(cnn_mean, cnn_sem)\n",
        "print(wo_cnn_mean, wo_cnn_sem)"
      ],
      "execution_count": 50,
      "outputs": [
        {
          "output_type": "stream",
          "text": [
            "4.387 0.1543412809328729\n",
            "19.675 0.5697046383872963\n"
          ],
          "name": "stdout"
        }
      ]
    },
    {
      "cell_type": "code",
      "metadata": {
        "id": "C-X5s0TF5YyN",
        "colab_type": "code",
        "colab": {
          "base_uri": "https://localhost:8080/",
          "height": 299
        },
        "outputId": "00ca2635-c749-43d7-a634-f606efa270e7"
      },
      "source": [
        "plt.plot(overlaps, cnn_sub, 'o')\n",
        "plt.plot(overlaps, wo_cnn_sub, 'o')\n",
        "plt.legend(['cnn', 'wo_cnn'])\n",
        "print('cnn corr is', np.corrcoef(overlaps, cnn_sub)[0,1])\n",
        "print('wo_cnn corr is', np.corrcoef(overlaps, wo_cnn_sub)[0,1])"
      ],
      "execution_count": 49,
      "outputs": [
        {
          "output_type": "stream",
          "text": [
            "cnn corr is 0.7054094227976863\n",
            "wo_cnn corr is 0.9748975018734845\n"
          ],
          "name": "stdout"
        },
        {
          "output_type": "display_data",
          "data": {
            "image/png": "[encoded data removed]",
            "text/plain": [
              "<Figure size 432x288 with 1 Axes>"
            ]
          },
          "metadata": {
            "tags": [],
            "needs_background": "light"
          }
        }
      ]
    },
    {
      "cell_type": "code",
      "metadata": {
        "id": "7yv04-zBQZUC",
        "colab_type": "code",
        "colab": {
          "base_uri": "https://localhost:8080/",
          "height": 34
        },
        "outputId": "087afde8-7492-4439-8eef-36c5a61c05c0"
      },
      "source": [
        "save_array = np.vstack((raw, cnn, wo_cnn, overlaps)).T\n",
        "print(save_array.shape)"
      ],
      "execution_count": 56,
      "outputs": [
        {
          "output_type": "stream",
          "text": [
            "(1000, 4)\n"
          ],
          "name": "stdout"
        }
      ]
    },
    {
      "cell_type": "code",
      "metadata": {
        "id": "A9ilATg5ZDjg",
        "colab_type": "code",
        "colab": {
          "base_uri": "https://localhost:8080/",
          "height": 316
        },
        "outputId": "595f1e6c-54fd-48c9-b3bb-a8b2d89204ff"
      },
      "source": [
        "plt.hist(np.array(overlaps)[np.array(np.where(np.array(overlaps)>0)[0])])"
      ],
      "execution_count": 82,
      "outputs": [
        {
          "output_type": "execute_result",
          "data": {
            "text/plain": [
              "(array([180., 131., 124.,  96., 102.,  99.,  65.,  49.,  18.,   3.]),\n",
              " array([ 1.,  5.,  9., 13., 17., 21., 25., 29., 33., 37., 41.]),\n",
              " <a list of 10 Patch objects>)"
            ]
          },
          "metadata": {
            "tags": []
          },
          "execution_count": 82
        },
        {
          "output_type": "display_data",
          "data": {
            "image/png": "[encoded data removed]",
            "text/plain": [
              "<Figure size 432x288 with 1 Axes>"
            ]
          },
          "metadata": {
            "tags": [],
            "needs_background": "light"
          }
        }
      ]
    },
    {
      "cell_type": "markdown",
      "metadata": {
        "id": "0d-Aa1DhuzMK",
        "colab_type": "text"
      },
      "source": [
        "## Save"
      ]
    },
    {
      "cell_type": "code",
      "metadata": {
        "id": "KGw5UOLXtkRH",
        "colab_type": "code",
        "colab": {}
      },
      "source": [
        "#np.savetxt('/content/drive/My Drive/SCC_1x/raw.csv', raw, delimiter=',')\n",
        "#np.savetxt('/content/drive/My Drive/SCC_1x/cnn.csv', cnn, delimiter=',')\n",
        "#np.savetxt('/content/drive/My Drive/SCC_1x/wo_cnn.csv', wo_cnn, delimiter=',')\n",
        "#np.savetxt('/content/drive/My Drive/SCC_1x/overlaps.csv', overlaps, delimiter=',')"
      ],
      "execution_count": 0,
      "outputs": []
    },
    {
      "cell_type": "code",
      "metadata": {
        "id": "QQBc2MTK6qtt",
        "colab_type": "code",
        "colab": {}
      },
      "source": [
        "#np.savetxt('/content/drive/My Drive/SCC_1x/save_array.csv', save_array, delimiter=',')"
      ],
      "execution_count": 0,
      "outputs": []
    }
  ]
}