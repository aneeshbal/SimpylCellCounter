{
 "cells": [
  {
   "cell_type": "markdown",
   "metadata": {
    "colab_type": "text",
    "id": "pWLo_m-FeYDi"
   },
   "source": [
    "## Initialize Session"
   ]
  },
  {
   "cell_type": "markdown",
   "metadata": {
    "colab_type": "text",
    "id": "7mL5jtgRfMnr"
   },
   "source": [
    "##### 1. First step, go to \"Runtime\" -> \"Change runtime type\", under \"Hardware Accelerator, select \"GPU\""
   ]
  },
  {
   "cell_type": "code",
   "execution_count": null,
   "metadata": {
    "colab": {},
    "colab_type": "code",
    "id": "rqSpz5B1eV2H"
   },
   "outputs": [],
   "source": [
    "# please note that tensorflow version 1.0 is selected since original model was created in 1.0\n",
    "\n",
    "%tensorflow_version 1.x\n",
    "import numpy as np\n",
    "import cv2\n",
    "import matplotlib.pyplot as plt\n",
    "import time\n",
    "import pandas as pd\n",
    "import math\n",
    "import os\n",
    "from tqdm.notebook import tqdm\n",
    "\n",
    "import tensorflow as tf\n",
    "from tensorflow.keras.models import load_model\n",
    "from tensorflow.keras.utils import get_file"
   ]
  },
  {
   "cell_type": "markdown",
   "metadata": {
    "colab_type": "text",
    "id": "J4LwWxD1fhoq"
   },
   "source": [
    "##### 2. Read in functions and load model\n",
    "##### after `!cd`, enter in the path to your Desktop"
   ]
  },
  {
   "cell_type": "code",
   "execution_count": null,
   "metadata": {
    "colab": {
     "base_uri": "https://localhost:8080/",
     "height": 0
    },
    "colab_type": "code",
    "executionInfo": {
     "elapsed": 9554,
     "status": "ok",
     "timestamp": 1588863821847,
     "user": {
      "displayName": "Aneesh Bal",
      "photoUrl": "",
      "userId": "16088840017681690417"
     },
     "user_tz": 240
    },
    "id": "sUqrwDAXfZyB",
    "outputId": "25e97cc1-44a5-4617-a283-6853445364ee"
   },
   "outputs": [],
   "source": [
    "!cd PATH\\TO\\DESKTOP\n",
    "!git clone https://github.com/aneeshbal/SimpylCellCounter.git\n",
    "!cd SimpylCellCounter\\scc\\1.1x"
   ]
  },
  {
   "cell_type": "code",
   "execution_count": null,
   "metadata": {
    "colab": {
     "base_uri": "https://localhost:8080/",
     "height": 0
    },
    "colab_type": "code",
    "executionInfo": {
     "elapsed": 14526,
     "status": "ok",
     "timestamp": 1588863826833,
     "user": {
      "displayName": "Aneesh Bal",
      "photoUrl": "",
      "userId": "16088840017681690417"
     },
     "user_tz": 240
    },
    "id": "CX3FIv6lizfN",
    "outputId": "a51e1f25-4abb-4cb4-8de7-50ff4bce1396"
   },
   "outputs": [],
   "source": [
    "from scc import scc\n",
    "model = load_model('model_save.h5')"
   ]
  },
  {
   "cell_type": "markdown",
   "metadata": {
    "colab_type": "text",
    "id": "11IzvIOemR0F"
   },
   "source": [
    "## Run SCC"
   ]
  },
  {
   "cell_type": "markdown",
   "metadata": {
    "colab_type": "text",
    "id": "a_kH-3QimJFm"
   },
   "source": [
    "##### 3. For the `image_path` variable, type in the appropriate folder name that contains your images"
   ]
  },
  {
   "cell_type": "code",
   "execution_count": null,
   "metadata": {
    "colab": {},
    "colab_type": "code",
    "id": "WQFY5w0zk5IJ"
   },
   "outputs": [],
   "source": [
    "image_path = 'PATH\\TO\\IMAGES' # replace 'sample_images' with appropriate folder name"
   ]
  },
  {
   "cell_type": "code",
   "execution_count": null,
   "metadata": {
    "colab": {
     "base_uri": "https://localhost:8080/",
     "height": 85
    },
    "colab_type": "code",
    "executionInfo": {
     "elapsed": 14521,
     "status": "ok",
     "timestamp": 1588863826848,
     "user": {
      "displayName": "Aneesh Bal",
      "photoUrl": "",
      "userId": "16088840017681690417"
     },
     "user_tz": 240
    },
    "id": "si0hyaGCn2iD",
    "outputId": "e81a9db4-253f-4a2b-8b7a-23995a691f9c"
   },
   "outputs": [],
   "source": [
    "roots = []\n",
    "[roots.append(root) for root, dirs, files in os.walk(image_path)]\n",
    "roots.pop(0)\n",
    "roots \n",
    "## ensure that the printed output looks correct in terms of where the images are located within the images folder"
   ]
  },
  {
   "cell_type": "code",
   "execution_count": null,
   "metadata": {
    "colab": {
     "base_uri": "https://localhost:8080/",
     "height": 66,
     "referenced_widgets": [
      "8d45c648c5bb485a8be93bf3ada0454a",
      "63166d274e46424685113e7728c53917",
      "592789803b224e5ab620d48f33f540c7",
      "680ec3be8aaa48fe8c4ff358b81aae39",
      "1db7ef976ad943cda4ee22c0e026d597",
      "6dbba6a7e7bc4e1396548765457498cc",
      "274b6ade28c741e5b12b44f25f8caad9",
      "44c9e86b751a4ee9a5788fa5a9530a3b"
     ]
    },
    "colab_type": "code",
    "executionInfo": {
     "elapsed": 5254,
     "status": "ok",
     "timestamp": 1588864651845,
     "user": {
      "displayName": "Aneesh Bal",
      "photoUrl": "",
      "userId": "16088840017681690417"
     },
     "user_tz": 240
    },
    "id": "89_cpBCDn3ue",
    "outputId": "717b1407-f71b-4fe7-eb31-2c50e60c4926"
   },
   "outputs": [],
   "source": [
    "## rememeber, scc parameters are as follows:\n",
    "## scc(read, model, set_th_value=150, radius=10, circularity_parameter=0.77)\n",
    "## 'read' = image to be read, don't change this!\n",
    "## 'model' = CNN model to-be-used, don't change this!\n",
    "## 'set_th_value' = binary threshold value set at default to 150, can be changed to any value!\n",
    "## 'radius' = radius for cells set at default to 10, can be changed to any value!\n",
    "## 'circularity_parameter' = how circular cells should be set at default to 0.77, can be changed to any value! The lower the value, ...\n",
    "## the less circular cells will be tolerated\n",
    "\n",
    "\n",
    "output = []\n",
    "img_track = []\n",
    "for p in tqdm(roots):\n",
    "    images = os.listdir(p)\n",
    "    for im in images:   \n",
    "        img_path = os.path.join(p, im)\n",
    "        img = cv2.imread(img_path, cv2.IMREAD_GRAYSCALE)\n",
    "        output.append(scc(read=img, model=model, set_th_value=115, circularity_parameter=0.7))\n",
    "        img_track.append(im)"
   ]
  },
  {
   "cell_type": "markdown",
   "metadata": {
    "colab_type": "text",
    "id": "Qofw5AxcsAWG"
   },
   "source": [
    "## Save Output"
   ]
  },
  {
   "cell_type": "code",
   "execution_count": null,
   "metadata": {
    "colab": {},
    "colab_type": "code",
    "id": "g9nPEiu2r_uH"
   },
   "outputs": [],
   "source": [
    "from time import gmtime, strftime\n",
    "save_output = pd.DataFrame({'image':img_track,'counts':output})\n",
    "save_output.set_index('image')\n",
    "save_output.to_csv('scc_output{}.csv'.format(strftime(\"%Y-%m-%d %H:%M:%S\", gmtime())))\n",
    "\n",
    "# output should be saved on Desktop as 'scc_output' followed by the date and time"
   ]
  }
 ],
 "metadata": {
  "accelerator": "GPU",
  "colab": {
   "authorship_tag": "ABX9TyO9ZIImlTsnR4o/SRS1bUfz",
   "collapsed_sections": [
    "pWLo_m-FeYDi",
    "9kxemtbDk4HL",
    "11IzvIOemR0F",
    "Qofw5AxcsAWG"
   ],
   "name": "scc_colab.ipynb",
   "provenance": [],
   "toc_visible": true
  },
  "kernelspec": {
   "display_name": "Python 3",
   "language": "python",
   "name": "python3"
  },
  "language_info": {
   "codemirror_mode": {
    "name": "ipython",
    "version": 3
   },
   "file_extension": ".py",
   "mimetype": "text/x-python",
   "name": "python",
   "nbconvert_exporter": "python",
   "pygments_lexer": "ipython3",
   "version": "3.7.1"
  },
  "widgets": {
   "application/vnd.jupyter.widget-state+json": {
    "1db7ef976ad943cda4ee22c0e026d597": {
     "model_module": "@jupyter-widgets/controls",
     "model_name": "ProgressStyleModel",
     "state": {
      "_model_module": "@jupyter-widgets/controls",
      "_model_module_version": "1.5.0",
      "_model_name": "ProgressStyleModel",
      "_view_count": null,
      "_view_module": "@jupyter-widgets/base",
      "_view_module_version": "1.2.0",
      "_view_name": "StyleView",
      "bar_color": null,
      "description_width": "initial"
     }
    },
    "274b6ade28c741e5b12b44f25f8caad9": {
     "model_module": "@jupyter-widgets/controls",
     "model_name": "DescriptionStyleModel",
     "state": {
      "_model_module": "@jupyter-widgets/controls",
      "_model_module_version": "1.5.0",
      "_model_name": "DescriptionStyleModel",
      "_view_count": null,
      "_view_module": "@jupyter-widgets/base",
      "_view_module_version": "1.2.0",
      "_view_name": "StyleView",
      "description_width": ""
     }
    },
    "44c9e86b751a4ee9a5788fa5a9530a3b": {
     "model_module": "@jupyter-widgets/base",
     "model_name": "LayoutModel",
     "state": {
      "_model_module": "@jupyter-widgets/base",
      "_model_module_version": "1.2.0",
      "_model_name": "LayoutModel",
      "_view_count": null,
      "_view_module": "@jupyter-widgets/base",
      "_view_module_version": "1.2.0",
      "_view_name": "LayoutView",
      "align_content": null,
      "align_items": null,
      "align_self": null,
      "border": null,
      "bottom": null,
      "display": null,
      "flex": null,
      "flex_flow": null,
      "grid_area": null,
      "grid_auto_columns": null,
      "grid_auto_flow": null,
      "grid_auto_rows": null,
      "grid_column": null,
      "grid_gap": null,
      "grid_row": null,
      "grid_template_areas": null,
      "grid_template_columns": null,
      "grid_template_rows": null,
      "height": null,
      "justify_content": null,
      "justify_items": null,
      "left": null,
      "margin": null,
      "max_height": null,
      "max_width": null,
      "min_height": null,
      "min_width": null,
      "object_fit": null,
      "object_position": null,
      "order": null,
      "overflow": null,
      "overflow_x": null,
      "overflow_y": null,
      "padding": null,
      "right": null,
      "top": null,
      "visibility": null,
      "width": null
     }
    },
    "592789803b224e5ab620d48f33f540c7": {
     "model_module": "@jupyter-widgets/controls",
     "model_name": "IntProgressModel",
     "state": {
      "_dom_classes": [],
      "_model_module": "@jupyter-widgets/controls",
      "_model_module_version": "1.5.0",
      "_model_name": "IntProgressModel",
      "_view_count": null,
      "_view_module": "@jupyter-widgets/controls",
      "_view_module_version": "1.5.0",
      "_view_name": "ProgressView",
      "bar_style": "success",
      "description": "100%",
      "description_tooltip": null,
      "layout": "IPY_MODEL_6dbba6a7e7bc4e1396548765457498cc",
      "max": 4,
      "min": 0,
      "orientation": "horizontal",
      "style": "IPY_MODEL_1db7ef976ad943cda4ee22c0e026d597",
      "value": 4
     }
    },
    "63166d274e46424685113e7728c53917": {
     "model_module": "@jupyter-widgets/base",
     "model_name": "LayoutModel",
     "state": {
      "_model_module": "@jupyter-widgets/base",
      "_model_module_version": "1.2.0",
      "_model_name": "LayoutModel",
      "_view_count": null,
      "_view_module": "@jupyter-widgets/base",
      "_view_module_version": "1.2.0",
      "_view_name": "LayoutView",
      "align_content": null,
      "align_items": null,
      "align_self": null,
      "border": null,
      "bottom": null,
      "display": null,
      "flex": null,
      "flex_flow": null,
      "grid_area": null,
      "grid_auto_columns": null,
      "grid_auto_flow": null,
      "grid_auto_rows": null,
      "grid_column": null,
      "grid_gap": null,
      "grid_row": null,
      "grid_template_areas": null,
      "grid_template_columns": null,
      "grid_template_rows": null,
      "height": null,
      "justify_content": null,
      "justify_items": null,
      "left": null,
      "margin": null,
      "max_height": null,
      "max_width": null,
      "min_height": null,
      "min_width": null,
      "object_fit": null,
      "object_position": null,
      "order": null,
      "overflow": null,
      "overflow_x": null,
      "overflow_y": null,
      "padding": null,
      "right": null,
      "top": null,
      "visibility": null,
      "width": null
     }
    },
    "680ec3be8aaa48fe8c4ff358b81aae39": {
     "model_module": "@jupyter-widgets/controls",
     "model_name": "HTMLModel",
     "state": {
      "_dom_classes": [],
      "_model_module": "@jupyter-widgets/controls",
      "_model_module_version": "1.5.0",
      "_model_name": "HTMLModel",
      "_view_count": null,
      "_view_module": "@jupyter-widgets/controls",
      "_view_module_version": "1.5.0",
      "_view_name": "HTMLView",
      "description": "",
      "description_tooltip": null,
      "layout": "IPY_MODEL_44c9e86b751a4ee9a5788fa5a9530a3b",
      "placeholder": "​",
      "style": "IPY_MODEL_274b6ade28c741e5b12b44f25f8caad9",
      "value": " 4/4 [00:06&lt;00:00,  1.54s/it]"
     }
    },
    "6dbba6a7e7bc4e1396548765457498cc": {
     "model_module": "@jupyter-widgets/base",
     "model_name": "LayoutModel",
     "state": {
      "_model_module": "@jupyter-widgets/base",
      "_model_module_version": "1.2.0",
      "_model_name": "LayoutModel",
      "_view_count": null,
      "_view_module": "@jupyter-widgets/base",
      "_view_module_version": "1.2.0",
      "_view_name": "LayoutView",
      "align_content": null,
      "align_items": null,
      "align_self": null,
      "border": null,
      "bottom": null,
      "display": null,
      "flex": null,
      "flex_flow": null,
      "grid_area": null,
      "grid_auto_columns": null,
      "grid_auto_flow": null,
      "grid_auto_rows": null,
      "grid_column": null,
      "grid_gap": null,
      "grid_row": null,
      "grid_template_areas": null,
      "grid_template_columns": null,
      "grid_template_rows": null,
      "height": null,
      "justify_content": null,
      "justify_items": null,
      "left": null,
      "margin": null,
      "max_height": null,
      "max_width": null,
      "min_height": null,
      "min_width": null,
      "object_fit": null,
      "object_position": null,
      "order": null,
      "overflow": null,
      "overflow_x": null,
      "overflow_y": null,
      "padding": null,
      "right": null,
      "top": null,
      "visibility": null,
      "width": null
     }
    },
    "8d45c648c5bb485a8be93bf3ada0454a": {
     "model_module": "@jupyter-widgets/controls",
     "model_name": "HBoxModel",
     "state": {
      "_dom_classes": [],
      "_model_module": "@jupyter-widgets/controls",
      "_model_module_version": "1.5.0",
      "_model_name": "HBoxModel",
      "_view_count": null,
      "_view_module": "@jupyter-widgets/controls",
      "_view_module_version": "1.5.0",
      "_view_name": "HBoxView",
      "box_style": "",
      "children": [
       "IPY_MODEL_592789803b224e5ab620d48f33f540c7",
       "IPY_MODEL_680ec3be8aaa48fe8c4ff358b81aae39"
      ],
      "layout": "IPY_MODEL_63166d274e46424685113e7728c53917"
     }
    }
   }
  }
 },
 "nbformat": 4,
 "nbformat_minor": 1
}
