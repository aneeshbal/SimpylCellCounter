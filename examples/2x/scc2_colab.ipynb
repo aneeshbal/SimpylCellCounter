{
  "nbformat": 4,
  "nbformat_minor": 0,
  "metadata": {
    "colab": {
      "name": "scc2_colab.ipynb",
      "provenance": [],
      "collapsed_sections": [],
      "toc_visible": true,
      "machine_shape": "hm",
      "authorship_tag": "ABX9TyML5Kk7YufWBJQhbQ6AdJce",
      "include_colab_link": true
    },
    "kernelspec": {
      "name": "python3",
      "display_name": "Python 3"
    },
    "accelerator": "GPU",
    "widgets": {
      "application/vnd.jupyter.widget-state+json": {
        "1e7defe3f44f43a3a9f50f28a9a0516d": {
          "model_module": "@jupyter-widgets/controls",
          "model_name": "HBoxModel",
          "state": {
            "_view_name": "HBoxView",
            "_dom_classes": [],
            "_model_name": "HBoxModel",
            "_view_module": "@jupyter-widgets/controls",
            "_model_module_version": "1.5.0",
            "_view_count": null,
            "_view_module_version": "1.5.0",
            "box_style": "",
            "layout": "IPY_MODEL_e2e7f791d70a43caa6712e0e2d555b55",
            "_model_module": "@jupyter-widgets/controls",
            "children": [
              "IPY_MODEL_ee861e2579b94ae8b056fef3640df51d",
              "IPY_MODEL_5eb499e269bd4fa0a5141771dfd227ab"
            ]
          }
        },
        "e2e7f791d70a43caa6712e0e2d555b55": {
          "model_module": "@jupyter-widgets/base",
          "model_name": "LayoutModel",
          "state": {
            "_view_name": "LayoutView",
            "grid_template_rows": null,
            "right": null,
            "justify_content": null,
            "_view_module": "@jupyter-widgets/base",
            "overflow": null,
            "_model_module_version": "1.2.0",
            "_view_count": null,
            "flex_flow": null,
            "width": null,
            "min_width": null,
            "border": null,
            "align_items": null,
            "bottom": null,
            "_model_module": "@jupyter-widgets/base",
            "top": null,
            "grid_column": null,
            "overflow_y": null,
            "overflow_x": null,
            "grid_auto_flow": null,
            "grid_area": null,
            "grid_template_columns": null,
            "flex": null,
            "_model_name": "LayoutModel",
            "justify_items": null,
            "grid_row": null,
            "max_height": null,
            "align_content": null,
            "visibility": null,
            "align_self": null,
            "height": null,
            "min_height": null,
            "padding": null,
            "grid_auto_rows": null,
            "grid_gap": null,
            "max_width": null,
            "order": null,
            "_view_module_version": "1.2.0",
            "grid_template_areas": null,
            "object_position": null,
            "object_fit": null,
            "grid_auto_columns": null,
            "margin": null,
            "display": null,
            "left": null
          }
        },
        "ee861e2579b94ae8b056fef3640df51d": {
          "model_module": "@jupyter-widgets/controls",
          "model_name": "FloatProgressModel",
          "state": {
            "_view_name": "ProgressView",
            "style": "IPY_MODEL_e4b768b98c934ffb803b8b2a7c31edc9",
            "_dom_classes": [],
            "description": "100%",
            "_model_name": "FloatProgressModel",
            "bar_style": "success",
            "max": 4,
            "_view_module": "@jupyter-widgets/controls",
            "_model_module_version": "1.5.0",
            "value": 4,
            "_view_count": null,
            "_view_module_version": "1.5.0",
            "orientation": "horizontal",
            "min": 0,
            "description_tooltip": null,
            "_model_module": "@jupyter-widgets/controls",
            "layout": "IPY_MODEL_0a3f2386430e4b1c9d963f2eed02e628"
          }
        },
        "5eb499e269bd4fa0a5141771dfd227ab": {
          "model_module": "@jupyter-widgets/controls",
          "model_name": "HTMLModel",
          "state": {
            "_view_name": "HTMLView",
            "style": "IPY_MODEL_e2c487b86e77421cb1b3c79cacae3bee",
            "_dom_classes": [],
            "description": "",
            "_model_name": "HTMLModel",
            "placeholder": "​",
            "_view_module": "@jupyter-widgets/controls",
            "_model_module_version": "1.5.0",
            "value": " 4/4 [00:00&lt;00:00,  4.43it/s]",
            "_view_count": null,
            "_view_module_version": "1.5.0",
            "description_tooltip": null,
            "_model_module": "@jupyter-widgets/controls",
            "layout": "IPY_MODEL_4bcd8131081c46f6a96d1de926765fd0"
          }
        },
        "e4b768b98c934ffb803b8b2a7c31edc9": {
          "model_module": "@jupyter-widgets/controls",
          "model_name": "ProgressStyleModel",
          "state": {
            "_view_name": "StyleView",
            "_model_name": "ProgressStyleModel",
            "description_width": "initial",
            "_view_module": "@jupyter-widgets/base",
            "_model_module_version": "1.5.0",
            "_view_count": null,
            "_view_module_version": "1.2.0",
            "bar_color": null,
            "_model_module": "@jupyter-widgets/controls"
          }
        },
        "0a3f2386430e4b1c9d963f2eed02e628": {
          "model_module": "@jupyter-widgets/base",
          "model_name": "LayoutModel",
          "state": {
            "_view_name": "LayoutView",
            "grid_template_rows": null,
            "right": null,
            "justify_content": null,
            "_view_module": "@jupyter-widgets/base",
            "overflow": null,
            "_model_module_version": "1.2.0",
            "_view_count": null,
            "flex_flow": null,
            "width": null,
            "min_width": null,
            "border": null,
            "align_items": null,
            "bottom": null,
            "_model_module": "@jupyter-widgets/base",
            "top": null,
            "grid_column": null,
            "overflow_y": null,
            "overflow_x": null,
            "grid_auto_flow": null,
            "grid_area": null,
            "grid_template_columns": null,
            "flex": null,
            "_model_name": "LayoutModel",
            "justify_items": null,
            "grid_row": null,
            "max_height": null,
            "align_content": null,
            "visibility": null,
            "align_self": null,
            "height": null,
            "min_height": null,
            "padding": null,
            "grid_auto_rows": null,
            "grid_gap": null,
            "max_width": null,
            "order": null,
            "_view_module_version": "1.2.0",
            "grid_template_areas": null,
            "object_position": null,
            "object_fit": null,
            "grid_auto_columns": null,
            "margin": null,
            "display": null,
            "left": null
          }
        },
        "e2c487b86e77421cb1b3c79cacae3bee": {
          "model_module": "@jupyter-widgets/controls",
          "model_name": "DescriptionStyleModel",
          "state": {
            "_view_name": "StyleView",
            "_model_name": "DescriptionStyleModel",
            "description_width": "",
            "_view_module": "@jupyter-widgets/base",
            "_model_module_version": "1.5.0",
            "_view_count": null,
            "_view_module_version": "1.2.0",
            "_model_module": "@jupyter-widgets/controls"
          }
        },
        "4bcd8131081c46f6a96d1de926765fd0": {
          "model_module": "@jupyter-widgets/base",
          "model_name": "LayoutModel",
          "state": {
            "_view_name": "LayoutView",
            "grid_template_rows": null,
            "right": null,
            "justify_content": null,
            "_view_module": "@jupyter-widgets/base",
            "overflow": null,
            "_model_module_version": "1.2.0",
            "_view_count": null,
            "flex_flow": null,
            "width": null,
            "min_width": null,
            "border": null,
            "align_items": null,
            "bottom": null,
            "_model_module": "@jupyter-widgets/base",
            "top": null,
            "grid_column": null,
            "overflow_y": null,
            "overflow_x": null,
            "grid_auto_flow": null,
            "grid_area": null,
            "grid_template_columns": null,
            "flex": null,
            "_model_name": "LayoutModel",
            "justify_items": null,
            "grid_row": null,
            "max_height": null,
            "align_content": null,
            "visibility": null,
            "align_self": null,
            "height": null,
            "min_height": null,
            "padding": null,
            "grid_auto_rows": null,
            "grid_gap": null,
            "max_width": null,
            "order": null,
            "_view_module_version": "1.2.0",
            "grid_template_areas": null,
            "object_position": null,
            "object_fit": null,
            "grid_auto_columns": null,
            "margin": null,
            "display": null,
            "left": null
          }
        }
      }
    }
  },
  "cells": [
    {
      "cell_type": "markdown",
      "metadata": {
        "id": "view-in-github",
        "colab_type": "text"
      },
      "source": [
        "<a href=\"https://colab.research.google.com/github/aneeshbal/SimpylCellCounter/blob/master/examples/2x/scc2_colab.ipynb\" target=\"_parent\"><img src=\"https://colab.research.google.com/assets/colab-badge.svg\" alt=\"Open In Colab\"/></a>"
      ]
    },
    {
      "cell_type": "markdown",
      "metadata": {
        "id": "pWLo_m-FeYDi",
        "colab_type": "text"
      },
      "source": [
        "## Initialize Session"
      ]
    },
    {
      "cell_type": "markdown",
      "metadata": {
        "id": "7mL5jtgRfMnr",
        "colab_type": "text"
      },
      "source": [
        "##### 1. First step, go to \"Runtime\" -> \"Change runtime type\", under \"Hardware Accelerator, select \"GPU\""
      ]
    },
    {
      "cell_type": "code",
      "metadata": {
        "id": "rqSpz5B1eV2H",
        "colab_type": "code",
        "colab": {
          "base_uri": "https://localhost:8080/",
          "height": 51
        },
        "outputId": "76f5af06-eb9a-4e11-d198-452d2b159278"
      },
      "source": [
        "# please note that tensorflow version 1.0 is selected since original model was created in 1.0\n",
        "\n",
        "import numpy as np\n",
        "import cv2\n",
        "import matplotlib.pyplot as plt\n",
        "import time\n",
        "import pandas as pd\n",
        "import math\n",
        "import os\n",
        "from tqdm.notebook import tqdm\n",
        "\n",
        "import tensorflow as tf\n",
        "from tensorflow.keras.models import load_model\n",
        "from tensorflow.keras.utils import get_file\n",
        "\n",
        "%load_ext autoreload\n",
        "%autoreload 2"
      ],
      "execution_count": 29,
      "outputs": [
        {
          "output_type": "stream",
          "text": [
            "The autoreload extension is already loaded. To reload it, use:\n",
            "  %reload_ext autoreload\n"
          ],
          "name": "stdout"
        }
      ]
    },
    {
      "cell_type": "markdown",
      "metadata": {
        "id": "sKmmUd_KfTAw",
        "colab_type": "text"
      },
      "source": [
        "##### 2. Connect your google drive to the colab session"
      ]
    },
    {
      "cell_type": "code",
      "metadata": {
        "id": "lpgtY13weZVz",
        "colab_type": "code",
        "colab": {
          "base_uri": "https://localhost:8080/",
          "height": 71
        },
        "outputId": "829dfe9f-6bb1-4f14-c912-885e0dd671da"
      },
      "source": [
        "from google.colab import drive\n",
        "drive.mount('/content/drive')\n",
        "%cd /content/drive/My Drive"
      ],
      "execution_count": 2,
      "outputs": [
        {
          "output_type": "stream",
          "text": [
            "Drive already mounted at /content/drive; to attempt to forcibly remount, call drive.mount(\"/content/drive\", force_remount=True).\n",
            "/content/drive/My Drive\n"
          ],
          "name": "stdout"
        }
      ]
    },
    {
      "cell_type": "markdown",
      "metadata": {
        "id": "J4LwWxD1fhoq",
        "colab_type": "text"
      },
      "source": [
        "##### 3. Read in functions and load model"
      ]
    },
    {
      "cell_type": "code",
      "metadata": {
        "id": "sUqrwDAXfZyB",
        "colab_type": "code",
        "colab": {
          "base_uri": "https://localhost:8080/",
          "height": 189
        },
        "outputId": "491a8b36-8d66-402c-b7fa-811f2b95d6d5"
      },
      "source": [
        "%cd /content/drive/My Drive\n",
        "!git clone https://github.com/aneeshbal/SimpylCellCounter.git\n",
        "%cd /content/drive/My Drive/SimpylCellCounter/scc/2x"
      ],
      "execution_count": 3,
      "outputs": [
        {
          "output_type": "stream",
          "text": [
            "/content/drive/My Drive\n",
            "Cloning into 'SimpylCellCounter'...\n",
            "remote: Enumerating objects: 30, done.\u001b[K\n",
            "remote: Counting objects: 100% (30/30), done.\u001b[K\n",
            "remote: Compressing objects: 100% (24/24), done.\u001b[K\n",
            "remote: Total 814 (delta 10), reused 25 (delta 6), pack-reused 784\u001b[K\n",
            "Receiving objects: 100% (814/814), 88.94 MiB | 21.33 MiB/s, done.\n",
            "Resolving deltas: 100% (350/350), done.\n",
            "Checking out files: 100% (49/49), done.\n",
            "/content/drive/My Drive/SimpylCellCounter/scc/2x\n"
          ],
          "name": "stdout"
        }
      ]
    },
    {
      "cell_type": "code",
      "metadata": {
        "id": "CX3FIv6lizfN",
        "colab_type": "code",
        "colab": {}
      },
      "source": [
        "import scc2\n",
        "model = load_model('fosFluor3.h5', \n",
        "                   custom_objects={'combine_loss': scc2.LoadingModel.combine_loss,\n",
        "\t\t\t\t\t\t\t\t\t                 'iou_coef': scc2.LoadingModel.iou_coef})"
      ],
      "execution_count": 11,
      "outputs": []
    },
    {
      "cell_type": "markdown",
      "metadata": {
        "id": "9kxemtbDk4HL",
        "colab_type": "text"
      },
      "source": [
        "## Upload Data\n",
        "\n"
      ]
    },
    {
      "cell_type": "markdown",
      "metadata": {
        "id": "lMkX4ZVvmCdg",
        "colab_type": "text"
      },
      "source": [
        "##### 4. Under the main \"My Drive\" folder, upload a folder with your images...wait a few minutes since sometimes the sync can be slow"
      ]
    },
    {
      "cell_type": "markdown",
      "metadata": {
        "id": "11IzvIOemR0F",
        "colab_type": "text"
      },
      "source": [
        "## Run SCC"
      ]
    },
    {
      "cell_type": "markdown",
      "metadata": {
        "id": "a_kH-3QimJFm",
        "colab_type": "text"
      },
      "source": [
        "##### 5. For the \"image_path\" variable, type in the appropriate folder name that contains your images"
      ]
    },
    {
      "cell_type": "code",
      "metadata": {
        "id": "WQFY5w0zk5IJ",
        "colab_type": "code",
        "colab": {}
      },
      "source": [
        "image_path = '/content/drive/My Drive/imageSamples' # replace 'imageSamples' with appropriate folder name"
      ],
      "execution_count": 14,
      "outputs": []
    },
    {
      "cell_type": "code",
      "metadata": {
        "id": "si0hyaGCn2iD",
        "colab_type": "code",
        "colab": {
          "base_uri": "https://localhost:8080/",
          "height": 86
        },
        "outputId": "4481ce08-1206-4700-870b-2f821f3973b6"
      },
      "source": [
        "roots = []\n",
        "[roots.append(root) for root, dirs, files in os.walk(image_path)]\n",
        "roots.pop(0)\n",
        "roots \n",
        "## ensure that the printed output looks correct in terms of where the images are located within the images folder"
      ],
      "execution_count": 15,
      "outputs": [
        {
          "output_type": "execute_result",
          "data": {
            "text/plain": [
              "['/content/drive/My Drive/imageSamples/G',\n",
              " '/content/drive/My Drive/imageSamples/D',\n",
              " '/content/drive/My Drive/imageSamples/Q',\n",
              " '/content/drive/My Drive/imageSamples/B']"
            ]
          },
          "metadata": {
            "tags": []
          },
          "execution_count": 15
        }
      ]
    },
    {
      "cell_type": "code",
      "metadata": {
        "id": "89_cpBCDn3ue",
        "colab_type": "code",
        "colab": {
          "base_uri": "https://localhost:8080/",
          "height": 66,
          "referenced_widgets": [
            "1e7defe3f44f43a3a9f50f28a9a0516d",
            "e2e7f791d70a43caa6712e0e2d555b55",
            "ee861e2579b94ae8b056fef3640df51d",
            "5eb499e269bd4fa0a5141771dfd227ab",
            "e4b768b98c934ffb803b8b2a7c31edc9",
            "0a3f2386430e4b1c9d963f2eed02e628",
            "e2c487b86e77421cb1b3c79cacae3bee",
            "4bcd8131081c46f6a96d1de926765fd0"
          ]
        },
        "outputId": "cae91e78-d507-4b65-d8ab-778f6ed08424"
      },
      "source": [
        "## rememeber, scc 2x is a fully deep learning model...therefore\n",
        "## parameter selection is not supported at this moment (radius, threshold, etc...)\n",
        "## SCC 2x will simply output the number of cells detected along with an image representation\n",
        "\n",
        "\n",
        "\n",
        "output = []\n",
        "img_track = []\n",
        "output_mask = []\n",
        "for p in tqdm(roots):\n",
        "  images = os.listdir(p)\n",
        "  for im in images:\n",
        "    img_path = os.path.join(p, im)\n",
        "    img = cv2.imread(img_path)\n",
        "    \n",
        "    mask = scc2.ProcessMasks.create_mask(img, model)\n",
        "    count, paste = scc2.ProcessMasks.process_masks(mask[0,:,:,0], img)\n",
        "    \n",
        "    output.append(count)\n",
        "    img_track.append(im)\n",
        "    output_mask.append(paste)"
      ],
      "execution_count": 48,
      "outputs": [
        {
          "output_type": "display_data",
          "data": {
            "application/vnd.jupyter.widget-view+json": {
              "model_id": "1e7defe3f44f43a3a9f50f28a9a0516d",
              "version_minor": 0,
              "version_major": 2
            },
            "text/plain": [
              "HBox(children=(FloatProgress(value=0.0, max=4.0), HTML(value='')))"
            ]
          },
          "metadata": {
            "tags": []
          }
        },
        {
          "output_type": "stream",
          "text": [
            "\n"
          ],
          "name": "stdout"
        }
      ]
    },
    {
      "cell_type": "code",
      "metadata": {
        "id": "ayfchWSwT16j",
        "colab_type": "code",
        "colab": {
          "base_uri": "https://localhost:8080/",
          "height": 286
        },
        "outputId": "f193cbc6-6e6d-49f2-a42c-592eb9ebcaba"
      },
      "source": [
        "# sample visual of an image...change value of \"o\" to see other images\n",
        "\n",
        "o = 5\n",
        "plt.imshow(output_mask[o])"
      ],
      "execution_count": 46,
      "outputs": [
        {
          "output_type": "execute_result",
          "data": {
            "text/plain": [
              "<matplotlib.image.AxesImage at 0x7f772247d550>"
            ]
          },
          "metadata": {
            "tags": []
          },
          "execution_count": 46
        },
        {
          "output_type": "display_data",
          "data": {
            "image/png": "[encoded data removed]",
            "text/plain": [
              "<Figure size 432x288 with 1 Axes>"
            ]
          },
          "metadata": {
            "tags": [],
            "needs_background": "light"
          }
        }
      ]
    },
    {
      "cell_type": "markdown",
      "metadata": {
        "id": "Qofw5AxcsAWG",
        "colab_type": "text"
      },
      "source": [
        "## Save Output"
      ]
    },
    {
      "cell_type": "code",
      "metadata": {
        "id": "g9nPEiu2r_uH",
        "colab_type": "code",
        "colab": {}
      },
      "source": [
        "from time import gmtime, strftime\n",
        "save_output = pd.DataFrame({'image':img_track,'counts':output})\n",
        "save_output.set_index('image')\n",
        "save_output.to_csv('/content/drive/My Drive/scc_output{}.csv'.format(strftime(\"%Y-%m-%d %H:%M:%S\", gmtime())))"
      ],
      "execution_count": null,
      "outputs": []
    }
  ]
}