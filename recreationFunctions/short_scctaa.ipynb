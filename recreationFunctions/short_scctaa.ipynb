{
  "nbformat": 4,
  "nbformat_minor": 0,
  "metadata": {
    "colab": {
      "name": "scc_cnn_time_and_accuracy.ipynb",
      "provenance": [],
      "collapsed_sections": [
        "jeDmE5nUL00y",
        "Oo-SAi6V3wci"
      ],
      "toc_visible": true,
      "authorship_tag": "ABX9TyNHn68eoEBfxs/z9cxEYpgq",
      "include_colab_link": true
    },
    "kernelspec": {
      "name": "python3",
      "display_name": "Python 3"
    },
    "widgets": {
      "application/vnd.jupyter.widget-state+json": {
        "a7454640e1ce4e2b8a62bfcaa6588086": {
          "model_module": "@jupyter-widgets/controls",
          "model_name": "HBoxModel",
          "state": {
            "_view_name": "HBoxView",
            "_dom_classes": [],
            "_model_name": "HBoxModel",
            "_view_module": "@jupyter-widgets/controls",
            "_model_module_version": "1.5.0",
            "_view_count": null,
            "_view_module_version": "1.5.0",
            "box_style": "",
            "layout": "IPY_MODEL_2ec04b2211964243b6c4ff3010d20dfc",
            "_model_module": "@jupyter-widgets/controls",
            "children": [
              "IPY_MODEL_57e24bfb3ac8486291e3649b01d5df94",
              "IPY_MODEL_c0cf894ac62b40cc9ff41de636111680"
            ]
          }
        },
        "2ec04b2211964243b6c4ff3010d20dfc": {
          "model_module": "@jupyter-widgets/base",
          "model_name": "LayoutModel",
          "state": {
            "_view_name": "LayoutView",
            "grid_template_rows": null,
            "right": null,
            "justify_content": null,
            "_view_module": "@jupyter-widgets/base",
            "overflow": null,
            "_model_module_version": "1.2.0",
            "_view_count": null,
            "flex_flow": null,
            "width": null,
            "min_width": null,
            "border": null,
            "align_items": null,
            "bottom": null,
            "_model_module": "@jupyter-widgets/base",
            "top": null,
            "grid_column": null,
            "overflow_y": null,
            "overflow_x": null,
            "grid_auto_flow": null,
            "grid_area": null,
            "grid_template_columns": null,
            "flex": null,
            "_model_name": "LayoutModel",
            "justify_items": null,
            "grid_row": null,
            "max_height": null,
            "align_content": null,
            "visibility": null,
            "align_self": null,
            "height": null,
            "min_height": null,
            "padding": null,
            "grid_auto_rows": null,
            "grid_gap": null,
            "max_width": null,
            "order": null,
            "_view_module_version": "1.2.0",
            "grid_template_areas": null,
            "object_position": null,
            "object_fit": null,
            "grid_auto_columns": null,
            "margin": null,
            "display": null,
            "left": null
          }
        },
        "57e24bfb3ac8486291e3649b01d5df94": {
          "model_module": "@jupyter-widgets/controls",
          "model_name": "IntProgressModel",
          "state": {
            "_view_name": "ProgressView",
            "style": "IPY_MODEL_2aff8c35a45c4babafe346d68c22b52b",
            "_dom_classes": [],
            "description": "100%",
            "_model_name": "IntProgressModel",
            "bar_style": "success",
            "max": 100,
            "_view_module": "@jupyter-widgets/controls",
            "_model_module_version": "1.5.0",
            "value": 100,
            "_view_count": null,
            "_view_module_version": "1.5.0",
            "orientation": "horizontal",
            "min": 0,
            "description_tooltip": null,
            "_model_module": "@jupyter-widgets/controls",
            "layout": "IPY_MODEL_11eae7420c0344a2bd45533655ce7901"
          }
        },
        "c0cf894ac62b40cc9ff41de636111680": {
          "model_module": "@jupyter-widgets/controls",
          "model_name": "HTMLModel",
          "state": {
            "_view_name": "HTMLView",
            "style": "IPY_MODEL_03bb22d1a9de47b8804ad6e9273332d2",
            "_dom_classes": [],
            "description": "",
            "_model_name": "HTMLModel",
            "placeholder": "​",
            "_view_module": "@jupyter-widgets/controls",
            "_model_module_version": "1.5.0",
            "value": " 100/100 [00:30&lt;00:00,  3.27it/s]",
            "_view_count": null,
            "_view_module_version": "1.5.0",
            "description_tooltip": null,
            "_model_module": "@jupyter-widgets/controls",
            "layout": "IPY_MODEL_4ac7fdea83854926852f067bdbc8b40f"
          }
        },
        "2aff8c35a45c4babafe346d68c22b52b": {
          "model_module": "@jupyter-widgets/controls",
          "model_name": "ProgressStyleModel",
          "state": {
            "_view_name": "StyleView",
            "_model_name": "ProgressStyleModel",
            "description_width": "initial",
            "_view_module": "@jupyter-widgets/base",
            "_model_module_version": "1.5.0",
            "_view_count": null,
            "_view_module_version": "1.2.0",
            "bar_color": null,
            "_model_module": "@jupyter-widgets/controls"
          }
        },
        "11eae7420c0344a2bd45533655ce7901": {
          "model_module": "@jupyter-widgets/base",
          "model_name": "LayoutModel",
          "state": {
            "_view_name": "LayoutView",
            "grid_template_rows": null,
            "right": null,
            "justify_content": null,
            "_view_module": "@jupyter-widgets/base",
            "overflow": null,
            "_model_module_version": "1.2.0",
            "_view_count": null,
            "flex_flow": null,
            "width": null,
            "min_width": null,
            "border": null,
            "align_items": null,
            "bottom": null,
            "_model_module": "@jupyter-widgets/base",
            "top": null,
            "grid_column": null,
            "overflow_y": null,
            "overflow_x": null,
            "grid_auto_flow": null,
            "grid_area": null,
            "grid_template_columns": null,
            "flex": null,
            "_model_name": "LayoutModel",
            "justify_items": null,
            "grid_row": null,
            "max_height": null,
            "align_content": null,
            "visibility": null,
            "align_self": null,
            "height": null,
            "min_height": null,
            "padding": null,
            "grid_auto_rows": null,
            "grid_gap": null,
            "max_width": null,
            "order": null,
            "_view_module_version": "1.2.0",
            "grid_template_areas": null,
            "object_position": null,
            "object_fit": null,
            "grid_auto_columns": null,
            "margin": null,
            "display": null,
            "left": null
          }
        },
        "03bb22d1a9de47b8804ad6e9273332d2": {
          "model_module": "@jupyter-widgets/controls",
          "model_name": "DescriptionStyleModel",
          "state": {
            "_view_name": "StyleView",
            "_model_name": "DescriptionStyleModel",
            "description_width": "",
            "_view_module": "@jupyter-widgets/base",
            "_model_module_version": "1.5.0",
            "_view_count": null,
            "_view_module_version": "1.2.0",
            "_model_module": "@jupyter-widgets/controls"
          }
        },
        "4ac7fdea83854926852f067bdbc8b40f": {
          "model_module": "@jupyter-widgets/base",
          "model_name": "LayoutModel",
          "state": {
            "_view_name": "LayoutView",
            "grid_template_rows": null,
            "right": null,
            "justify_content": null,
            "_view_module": "@jupyter-widgets/base",
            "overflow": null,
            "_model_module_version": "1.2.0",
            "_view_count": null,
            "flex_flow": null,
            "width": null,
            "min_width": null,
            "border": null,
            "align_items": null,
            "bottom": null,
            "_model_module": "@jupyter-widgets/base",
            "top": null,
            "grid_column": null,
            "overflow_y": null,
            "overflow_x": null,
            "grid_auto_flow": null,
            "grid_area": null,
            "grid_template_columns": null,
            "flex": null,
            "_model_name": "LayoutModel",
            "justify_items": null,
            "grid_row": null,
            "max_height": null,
            "align_content": null,
            "visibility": null,
            "align_self": null,
            "height": null,
            "min_height": null,
            "padding": null,
            "grid_auto_rows": null,
            "grid_gap": null,
            "max_width": null,
            "order": null,
            "_view_module_version": "1.2.0",
            "grid_template_areas": null,
            "object_position": null,
            "object_fit": null,
            "grid_auto_columns": null,
            "margin": null,
            "display": null,
            "left": null
          }
        }
      }
    },
    "accelerator": "GPU"
  },
  "cells": [
    {
      "cell_type": "markdown",
      "metadata": {
        "id": "view-in-github",
        "colab_type": "text"
      },
      "source": [
        "<a href=\"https://colab.research.google.com/github/aneeshbal/SimpylCellCounter/blob/master/recreationFunctions/short_scctaa.ipynb\" target=\"_parent\"><img src=\"https://colab.research.google.com/assets/colab-badge.svg\" alt=\"Open In Colab\"/></a>"
      ]
    },
    {
      "cell_type": "markdown",
      "metadata": {
        "id": "BPuTRu05iB8o",
        "colab_type": "text"
      },
      "source": [
        "# Test"
      ]
    },
    {
      "cell_type": "markdown",
      "metadata": {
        "id": "Bw0NPNVKGBoB",
        "colab_type": "text"
      },
      "source": [
        "## Initialize Session"
      ]
    },
    {
      "cell_type": "code",
      "metadata": {
        "id": "ivVfOEbnF_7L",
        "colab_type": "code",
        "colab": {}
      },
      "source": [
        "%tensorflow_version 1.x\n",
        "import numpy as np\n",
        "import cv2\n",
        "import matplotlib.pyplot as plt\n",
        "import time\n",
        "import pandas as pd\n",
        "import math\n",
        "\n",
        "import tensorflow as tf\n",
        "from tensorflow.keras.models import load_model"
      ],
      "execution_count": 0,
      "outputs": []
    },
    {
      "cell_type": "code",
      "metadata": {
        "id": "AQontg1TGII3",
        "colab_type": "code",
        "outputId": "3028d4fb-ddc9-4d26-d600-99363ddf7679",
        "colab": {
          "base_uri": "https://localhost:8080/",
          "height": 34
        }
      },
      "source": [
        "from google.colab import drive\n",
        "drive.mount('/content/drive')"
      ],
      "execution_count": 0,
      "outputs": [
        {
          "output_type": "stream",
          "text": [
            "Drive already mounted at /content/drive; to attempt to forcibly remount, call drive.mount(\"/content/drive\", force_remount=True).\n"
          ],
          "name": "stdout"
        }
      ]
    },
    {
      "cell_type": "code",
      "metadata": {
        "id": "lMBnLJ2XIkUJ",
        "colab_type": "code",
        "colab": {}
      },
      "source": [
        "model = load_model('/content/drive/My Drive/SCC_1x/model_save.h5')"
      ],
      "execution_count": 0,
      "outputs": []
    },
    {
      "cell_type": "markdown",
      "metadata": {
        "id": "AiVtZpheGZEp",
        "colab_type": "text"
      },
      "source": [
        "## Define Image Creation"
      ]
    },
    {
      "cell_type": "code",
      "metadata": {
        "id": "aG8GQ2dBGaLg",
        "colab_type": "code",
        "colab": {}
      },
      "source": [
        "def createImg(num_of_objects):\n",
        "    \n",
        "    global im, sizes, intensities\n",
        "    \n",
        "    im = np.random.randint(165, 200, size = (1500,1500)).astype('uint8')\n",
        "    obj_num = num_of_objects\n",
        "    circle_centers = np.random.randint(100, 1400, size = (obj_num, 2))\n",
        "    intensities = np.random.randint(80, 90, size = (obj_num, 1)).astype('int')\n",
        "    sizes = np.random.randint(15, 25, size = (obj_num, 1)).astype('int')\n",
        "\n",
        "    for jj in range(len(circle_centers)):\n",
        "        cv2.circle(im, (circle_centers[jj][0], circle_centers[jj][1]), sizes[jj], int(intensities[jj]), -1)\n",
        "        \n",
        "    ## blur image\n",
        "    im = cv2.medianBlur(im, 3)\n",
        "    im = cv2.GaussianBlur(im, (3,3), 9)   \n",
        "    return im"
      ],
      "execution_count": 0,
      "outputs": []
    },
    {
      "cell_type": "markdown",
      "metadata": {
        "id": "M9RsxReo3yRc",
        "colab_type": "text"
      },
      "source": [
        "## In Function\n",
        "\n",
        "#####scc - standard SCC\n",
        "#####scc_wo_cnn - scc without CNN\n",
        "#####scc_mult_circ - outputs number of overlapping objects"
      ]
    },
    {
      "cell_type": "code",
      "metadata": {
        "id": "Dk-AipPYsNAo",
        "colab_type": "code",
        "colab": {}
      },
      "source": [
        "set_th_value=150; radius=10; circularity_parameter=0.77\n",
        "\n",
        "def scc(read, set_th_value=150, radius=10, circularity_parameter=0.77):\n",
        "  t1 = time.time()\n",
        "  area_parameter = (3.14*radius**2)/0.95 # do NOT change this formula!\n",
        "  area_parameter = area_parameter/1.04 # do NOT change this formula!\n",
        "\n",
        "  img = read\n",
        "  th_value=set_th_value\n",
        "  test_thresh, __ = cv2.threshold(img, 0, 255, cv2.THRESH_BINARY_INV + cv2.THRESH_OTSU)      \n",
        "  if test_thresh < np.mean(img):\n",
        "      img = img\n",
        "  else:\n",
        "      img = cv2.bitwise_not(img)    \n",
        "  new_th, __ = cv2.threshold(img, 0, 255, cv2.THRESH_BINARY + cv2.THRESH_OTSU)\n",
        "  if area_parameter > 200:\n",
        "      if th_value/np.mean(img) > 0.63:\n",
        "          a = 5; b = 3; th_value = th_value; sig = 'first'   \n",
        "          if th_value > new_th:\n",
        "              a = 5; b = 3; th_value = new_th\n",
        "      else:\n",
        "          a = 3; b = 1                            \n",
        "  else:    \n",
        "      if th_value > new_th:\n",
        "          a = 3; b = 1; th_value = new_th\n",
        "      else:            \n",
        "          a = 3; b = 1; sig = 'fifth'\n",
        "          \n",
        "  ret, img2 = cv2.threshold(img, th_value, 255, cv2.THRESH_BINARY)\n",
        "  c_function = cv2.medianBlur(img2, 5)\n",
        "  c_function = cv2.morphologyEx(c_function, cv2.MORPH_CLOSE, np.ones((a,a)), iterations = b)\n",
        "  d_function = cv2.erode(c_function, np.ones((1,1)), iterations = 1)\n",
        "    \n",
        "  contours, hierarchy = cv2.findContours(d_function, cv2.RETR_TREE, cv2.CHAIN_APPROX_NONE)\n",
        "\n",
        "  A = []\n",
        "  df = []\n",
        "  k = np.empty((1,2))\n",
        "  for j in range(0, len(contours)):\n",
        "      M = cv2.moments(contours[j])\n",
        "      areas = M['m00']\n",
        "      A.append(areas)\n",
        "\n",
        "  smallArea = np.where(np.array(A)<area_parameter)\n",
        "  contours = np.delete(np.array(contours), np.asarray(smallArea).astype('int'))\n",
        "\n",
        "  for j in range(0, len(contours)):\n",
        "      M = cv2.moments(contours[j])\n",
        "      huMoments = cv2.HuMoments(M)\n",
        "      huMoments = huMoments[0]\n",
        "      huMoments = -1*math.copysign(1.0, huMoments)*math.log10(abs(huMoments))\n",
        "      df.append(huMoments)\n",
        "\n",
        "  df = np.array(df)\n",
        "  multCirc = np.where(df<circularity_parameter)[0][1:]\n",
        "  if len(multCirc) == 0:\n",
        "    counts = len(df)\n",
        "  else:\n",
        "    c = [contours[i] for i in multCirc]\n",
        "    count_array = []\n",
        "    imgs = []\n",
        "    for h,cnt in enumerate(c):\n",
        "      mask = np.ones((img.shape[0]+100, img.shape[1]+100),np.uint8)\n",
        "      cv2.drawContours(mask,[cnt],0,0,-1)\n",
        "      (x,y,w,h) = cv2.boundingRect(cnt)\n",
        "      x1 = x-100; x2 = x+100; y1 = y-100; y2 = y+100\n",
        "      if x1<0:\n",
        "          x1=0\n",
        "      if y1<0:\n",
        "          y1=0\n",
        "      if x2<0:\n",
        "          x2=0\n",
        "      if y2<0:\n",
        "          y2=0\n",
        "      mask_subset = mask[y1:y2, x1:x2]\n",
        "      mask_subset_resize = cv2.resize(mask_subset, (100, 100))\n",
        "      im4 = np.array(mask_subset_resize)\n",
        "      #im4 = im4.astype('float32')/255.\n",
        "      #im4 = tf.keras.utils.normalize(np.array(mask_subset_resize).reshape(1, 100, 100, 1))\n",
        "      imgs.append(im4)\n",
        "    imgs = np.array(imgs).reshape(-1, 100, 100, 1)\n",
        "    #count_array = [np.argmax(model.predict(imgs))]\n",
        "    count_array = model.predict_on_batch(imgs)\n",
        "    count_array = [np.argmax(i) for i in count_array]\n",
        "\n",
        "    counts = len(df)-len(multCirc)-1+int(sum(np.array(count_array)))\n",
        "    t2 = time.time()\n",
        "    times = t2-t1\n",
        "  #return counts\n",
        "  return counts"
      ],
      "execution_count": 0,
      "outputs": []
    },
    {
      "cell_type": "code",
      "metadata": {
        "id": "H2TJKHjL03Pt",
        "colab_type": "code",
        "colab": {}
      },
      "source": [
        "def scc_wo_cnn(read, set_th_value=150, radius=10, circularity_parameter=0.77):\n",
        "  t1 = time.time()\n",
        "  area_parameter = (3.14*radius**2)/0.95 # do NOT change this formula!\n",
        "  area_parameter = area_parameter/1.04 # do NOT change this formula!\n",
        "\n",
        "  img = read\n",
        "  th_value=set_th_value\n",
        "  test_thresh, __ = cv2.threshold(img, 0, 255, cv2.THRESH_BINARY_INV + cv2.THRESH_OTSU)      \n",
        "  if test_thresh < np.mean(img):\n",
        "      img = img\n",
        "  else:\n",
        "      img = cv2.bitwise_not(img)    \n",
        "  new_th, __ = cv2.threshold(img, 0, 255, cv2.THRESH_BINARY + cv2.THRESH_OTSU)\n",
        "  if area_parameter > 200:\n",
        "      if th_value/np.mean(img) > 0.63:\n",
        "          a = 5; b = 3; th_value = th_value; sig = 'first'   \n",
        "          if th_value > new_th:\n",
        "              a = 5; b = 3; th_value = new_th\n",
        "      else:\n",
        "          a = 3; b = 1                            \n",
        "  else:    \n",
        "      if th_value > new_th:\n",
        "          a = 3; b = 1; th_value = new_th\n",
        "      else:            \n",
        "          a = 3; b = 1; sig = 'fifth'\n",
        "          \n",
        "  ret, img2 = cv2.threshold(img, th_value, 255, cv2.THRESH_BINARY)\n",
        "  c_function = cv2.medianBlur(img2, 5)\n",
        "  c_function = cv2.morphologyEx(c_function, cv2.MORPH_CLOSE, np.ones((a,a)), iterations = b)\n",
        "  d_function = cv2.erode(c_function, np.ones((1,1)), iterations = 1)\n",
        "    \n",
        "  contours, hierarchy = cv2.findContours(d_function, cv2.RETR_TREE, cv2.CHAIN_APPROX_NONE)\n",
        "\n",
        "  A = []\n",
        "  df = []\n",
        "  k = np.empty((1,2))\n",
        "  for j in range(0, len(contours)):\n",
        "      M = cv2.moments(contours[j])\n",
        "      areas = M['m00']\n",
        "      A.append(areas)\n",
        "\n",
        "  smallArea = np.where(np.array(A)<area_parameter)\n",
        "  contours = np.delete(np.array(contours), np.asarray(smallArea).astype('int'))\n",
        "\n",
        "  for j in range(0, len(contours)):\n",
        "      M = cv2.moments(contours[j])\n",
        "      huMoments = cv2.HuMoments(M)\n",
        "      huMoments = huMoments[0]\n",
        "      huMoments = -1*math.copysign(1.0, huMoments)*math.log10(abs(huMoments))\n",
        "      df.append(huMoments)\n",
        "\n",
        "  df = np.array(df)\n",
        "  multCirc = np.where(df<circularity_parameter)[0][1:]\n",
        "  c = [contours[i] for i in multCirc]\n",
        "  count_array = []\n",
        "  \n",
        "  counts = len(df) \n",
        "  t2 = time.time()\n",
        "  times = t2-t1\n",
        "  #return counts\n",
        "  return counts"
      ],
      "execution_count": 0,
      "outputs": []
    },
    {
      "cell_type": "code",
      "metadata": {
        "id": "J3or7Uo-zgR8",
        "colab_type": "code",
        "colab": {}
      },
      "source": [
        "def scc_mult_circ(read, set_th_value=150, radius=10, circularity_parameter=0.77):\n",
        "  t1 = time.time()\n",
        "  area_parameter = (3.14*radius**2)/0.95 # do NOT change this formula!\n",
        "  area_parameter = area_parameter/1.04 # do NOT change this formula!\n",
        "\n",
        "  img = read\n",
        "  th_value=set_th_value\n",
        "  test_thresh, __ = cv2.threshold(img, 0, 255, cv2.THRESH_BINARY_INV + cv2.THRESH_OTSU)      \n",
        "  if test_thresh < np.mean(img):\n",
        "      img = img\n",
        "  else:\n",
        "      img = cv2.bitwise_not(img)    \n",
        "  new_th, __ = cv2.threshold(img, 0, 255, cv2.THRESH_BINARY + cv2.THRESH_OTSU)\n",
        "  if area_parameter > 200:\n",
        "      if th_value/np.mean(img) > 0.63:\n",
        "          a = 5; b = 3; th_value = th_value; sig = 'first'   \n",
        "          if th_value > new_th:\n",
        "              a = 5; b = 3; th_value = new_th\n",
        "      else:\n",
        "          a = 3; b = 1                            \n",
        "  else:    \n",
        "      if th_value > new_th:\n",
        "          a = 3; b = 1; th_value = new_th\n",
        "      else:            \n",
        "          a = 3; b = 1; sig = 'fifth'\n",
        "          \n",
        "  ret, img2 = cv2.threshold(img, th_value, 255, cv2.THRESH_BINARY)\n",
        "  c_function = cv2.medianBlur(img2, 5)\n",
        "  c_function = cv2.morphologyEx(c_function, cv2.MORPH_CLOSE, np.ones((a,a)), iterations = b)\n",
        "  d_function = cv2.erode(c_function, np.ones((1,1)), iterations = 1)\n",
        "    \n",
        "  contours, hierarchy = cv2.findContours(d_function, cv2.RETR_TREE, cv2.CHAIN_APPROX_NONE)\n",
        "\n",
        "  A = []\n",
        "  df = []\n",
        "  k = np.empty((1,2))\n",
        "  for j in range(0, len(contours)):\n",
        "      M = cv2.moments(contours[j])\n",
        "      areas = M['m00']\n",
        "      A.append(areas)\n",
        "\n",
        "  smallArea = np.where(np.array(A)<area_parameter)\n",
        "  contours = np.delete(np.array(contours), np.asarray(smallArea).astype('int'))\n",
        "\n",
        "  for j in range(0, len(contours)):\n",
        "      M = cv2.moments(contours[j])\n",
        "      huMoments = cv2.HuMoments(M)\n",
        "      huMoments = huMoments[0]\n",
        "      huMoments = -1*math.copysign(1.0, huMoments)*math.log10(abs(huMoments))\n",
        "      df.append(huMoments)\n",
        "\n",
        "  df = np.array(df)\n",
        "  multCirc = np.where(df<circularity_parameter)[0][1:]\n",
        "  c = [contours[i] for i in multCirc]\n",
        "  count_array = []\n",
        "  \n",
        "  counts = len(df) \n",
        "  t2 = time.time()\n",
        "  times = t2-t1\n",
        "  #return counts\n",
        "  return len(multCirc)"
      ],
      "execution_count": 0,
      "outputs": []
    },
    {
      "cell_type": "markdown",
      "metadata": {
        "id": "pmrdyIGtgblr",
        "colab_type": "text"
      },
      "source": [
        "## Accuracy and Time"
      ]
    },
    {
      "cell_type": "code",
      "metadata": {
        "id": "p4nXK93xhcth",
        "colab_type": "code",
        "outputId": "a22981e4-4b7e-419a-9290-a2f6c9e1cc34",
        "colab": {
          "base_uri": "https://localhost:8080/",
          "height": 66,
          "referenced_widgets": [
            "a7454640e1ce4e2b8a62bfcaa6588086",
            "2ec04b2211964243b6c4ff3010d20dfc",
            "57e24bfb3ac8486291e3649b01d5df94",
            "c0cf894ac62b40cc9ff41de636111680",
            "2aff8c35a45c4babafe346d68c22b52b",
            "11eae7420c0344a2bd45533655ce7901",
            "03bb22d1a9de47b8804ad6e9273332d2",
            "4ac7fdea83854926852f067bdbc8b40f"
          ]
        }
      },
      "source": [
        "raw = []\n",
        "cnn = []\n",
        "wo_cnn = []\n",
        "overlaps = []\n",
        "\n",
        "cnn_time = []\n",
        "wo_cnn_time = []\n",
        "for j in tqdm(range(0, 100)):\n",
        "  num_objects = np.random.randint(50, 150)\n",
        "  img = createImg(num_objects)\n",
        "  #cv2.imwrite('/content/drive/My Drive/SCC_1x/standard/{}.jpg'.format(j), img)\n",
        "\n",
        "  raw.append(num_objects)\n",
        "\n",
        "  cnn1 = time.time()\n",
        "  cnn.append(scc(img))\n",
        "  cnn2 = time.time()\n",
        "  cnn_time.append((cnn2-cnn1))\n",
        "\n",
        "  wo_cnn1 = time.time()\n",
        "  wo_cnn.append(scc_wo_cnn(img))\n",
        "  wo_cnn2 = time.time()\n",
        "  wo_cnn_time.append((wo_cnn2-wo_cnn1))\n",
        "\n",
        "  overlaps.append(scc_mult_circ(img))"
      ],
      "execution_count": 0,
      "outputs": [
        {
          "output_type": "display_data",
          "data": {
            "application/vnd.jupyter.widget-view+json": {
              "model_id": "a7454640e1ce4e2b8a62bfcaa6588086",
              "version_minor": 0,
              "version_major": 2
            },
            "text/plain": [
              "HBox(children=(IntProgress(value=0), HTML(value='')))"
            ]
          },
          "metadata": {
            "tags": []
          }
        },
        {
          "output_type": "stream",
          "text": [
            "\n"
          ],
          "name": "stdout"
        }
      ]
    },
    {
      "cell_type": "code",
      "metadata": {
        "id": "lvsa3_Z5i1Ns",
        "colab_type": "code",
        "outputId": "66b60b76-15f8-4c65-d5df-f7896e6f8b67",
        "colab": {
          "base_uri": "https://localhost:8080/",
          "height": 299
        }
      },
      "source": [
        "plt.plot(raw, cnn, 'o')\n",
        "plt.plot(raw, wo_cnn, 'o')\n",
        "plt.legend(['cnn', 'wo_cnn'])\n",
        "print(np.corrcoef(raw, cnn)[0,1])\n",
        "print(np.corrcoef(raw, wo_cnn)[0,1])"
      ],
      "execution_count": 0,
      "outputs": [
        {
          "output_type": "stream",
          "text": [
            "0.9950336733273156\n",
            "0.9889720877318968\n"
          ],
          "name": "stdout"
        },
        {
          "output_type": "display_data",
          "data": {
            "image/png": "[encoded data removed]",
            "text/plain": [
              "<Figure size 432x288 with 1 Axes>"
            ]
          },
          "metadata": {
            "tags": [],
            "needs_background": "light"
          }
        }
      ]
    },
    {
      "cell_type": "code",
      "metadata": {
        "id": "zE3Nx0UzvhUN",
        "colab_type": "code",
        "outputId": "2406b18b-509b-4ae5-ac1c-097ead560144",
        "colab": {
          "base_uri": "https://localhost:8080/",
          "height": 51
        }
      },
      "source": [
        "cnn_sub = np.abs(np.array(raw)-np.array(cnn))\n",
        "wo_cnn_sub = np.abs(np.array(raw)-np.array(wo_cnn))\n",
        "\n",
        "cnn_mean = np.mean(cnn_sub)\n",
        "wo_cnn_mean = np.mean(wo_cnn_sub)\n",
        "\n",
        "cnn_sem = np.std(cnn_sub)/np.sqrt(len(cnn_sub))\n",
        "wo_cnn_sem = np.std(wo_cnn_sub)/np.sqrt(len(wo_cnn_sub))\n",
        "\n",
        "print(cnn_mean, cnn_sem)\n",
        "print(wo_cnn_mean, wo_cnn_sem)"
      ],
      "execution_count": 0,
      "outputs": [
        {
          "output_type": "stream",
          "text": [
            "6.47 0.44078452785913436\n",
            "14.44 0.8855868111032368\n"
          ],
          "name": "stdout"
        }
      ]
    },
    {
      "cell_type": "code",
      "metadata": {
        "id": "lQKv4qRLjjBf",
        "colab_type": "code",
        "outputId": "e6d36d63-ee9f-4e07-94e1-23108a55dd52",
        "colab": {
          "base_uri": "https://localhost:8080/",
          "height": 282
        }
      },
      "source": [
        "plt.plot(overlaps, cnn_time, 'o')\n",
        "plt.plot(overlaps, wo_cnn_time, 'o')\n",
        "plt.legend(['cnn', 'wo_cnn'])"
      ],
      "execution_count": 0,
      "outputs": [
        {
          "output_type": "execute_result",
          "data": {
            "text/plain": [
              "<matplotlib.legend.Legend at 0x7f4707ac9e80>"
            ]
          },
          "metadata": {
            "tags": []
          },
          "execution_count": 165
        },
        {
          "output_type": "display_data",
          "data": {
            "image/png": "[encoded data removed]",
            "text/plain": [
              "<Figure size 432x288 with 1 Axes>"
            ]
          },
          "metadata": {
            "tags": [],
            "needs_background": "light"
          }
        }
      ]
    },
    {
      "cell_type": "code",
      "metadata": {
        "id": "VVT8YaK3A48J",
        "colab_type": "code",
        "outputId": "580266a6-50c7-42f2-b3f3-46c3f145728a",
        "colab": {
          "base_uri": "https://localhost:8080/",
          "height": 34
        }
      },
      "source": [
        "save_array = np.vstack((raw, cnn, wo_cnn, overlaps, cnn_time, wo_cnn_time)).T\n",
        "print(save_array.shape)"
      ],
      "execution_count": 0,
      "outputs": [
        {
          "output_type": "stream",
          "text": [
            "(100, 6)\n"
          ],
          "name": "stdout"
        }
      ]
    },
    {
      "cell_type": "code",
      "metadata": {
        "id": "idhpgxLWMEsB",
        "colab_type": "code",
        "colab": {}
      },
      "source": [
        "#np.savetxt('/content/drive/My Drive/SCC_1x/save_array.csv', save_array, delimiter=',')"
      ],
      "execution_count": 0,
      "outputs": []
    }
  ]
}