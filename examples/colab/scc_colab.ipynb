{
  "nbformat": 4,
  "nbformat_minor": 0,
  "metadata": {
    "colab": {
      "name": "scc_colab.ipynb",
      "provenance": [],
      "collapsed_sections": [],
      "authorship_tag": "ABX9TyO9ZIImlTsnR4o/SRS1bUfz",
      "include_colab_link": true
    },
    "kernelspec": {
      "name": "python3",
      "display_name": "Python 3"
    },
    "accelerator": "GPU",
    "widgets": {
      "application/vnd.jupyter.widget-state+json": {
        "8d45c648c5bb485a8be93bf3ada0454a": {
          "model_module": "@jupyter-widgets/controls",
          "model_name": "HBoxModel",
          "state": {
            "_view_name": "HBoxView",
            "_dom_classes": [],
            "_model_name": "HBoxModel",
            "_view_module": "@jupyter-widgets/controls",
            "_model_module_version": "1.5.0",
            "_view_count": null,
            "_view_module_version": "1.5.0",
            "box_style": "",
            "layout": "IPY_MODEL_63166d274e46424685113e7728c53917",
            "_model_module": "@jupyter-widgets/controls",
            "children": [
              "IPY_MODEL_592789803b224e5ab620d48f33f540c7",
              "IPY_MODEL_680ec3be8aaa48fe8c4ff358b81aae39"
            ]
          }
        },
        "63166d274e46424685113e7728c53917": {
          "model_module": "@jupyter-widgets/base",
          "model_name": "LayoutModel",
          "state": {
            "_view_name": "LayoutView",
            "grid_template_rows": null,
            "right": null,
            "justify_content": null,
            "_view_module": "@jupyter-widgets/base",
            "overflow": null,
            "_model_module_version": "1.2.0",
            "_view_count": null,
            "flex_flow": null,
            "width": null,
            "min_width": null,
            "border": null,
            "align_items": null,
            "bottom": null,
            "_model_module": "@jupyter-widgets/base",
            "top": null,
            "grid_column": null,
            "overflow_y": null,
            "overflow_x": null,
            "grid_auto_flow": null,
            "grid_area": null,
            "grid_template_columns": null,
            "flex": null,
            "_model_name": "LayoutModel",
            "justify_items": null,
            "grid_row": null,
            "max_height": null,
            "align_content": null,
            "visibility": null,
            "align_self": null,
            "height": null,
            "min_height": null,
            "padding": null,
            "grid_auto_rows": null,
            "grid_gap": null,
            "max_width": null,
            "order": null,
            "_view_module_version": "1.2.0",
            "grid_template_areas": null,
            "object_position": null,
            "object_fit": null,
            "grid_auto_columns": null,
            "margin": null,
            "display": null,
            "left": null
          }
        },
        "592789803b224e5ab620d48f33f540c7": {
          "model_module": "@jupyter-widgets/controls",
          "model_name": "IntProgressModel",
          "state": {
            "_view_name": "ProgressView",
            "style": "IPY_MODEL_1db7ef976ad943cda4ee22c0e026d597",
            "_dom_classes": [],
            "description": "100%",
            "_model_name": "IntProgressModel",
            "bar_style": "success",
            "max": 4,
            "_view_module": "@jupyter-widgets/controls",
            "_model_module_version": "1.5.0",
            "value": 4,
            "_view_count": null,
            "_view_module_version": "1.5.0",
            "orientation": "horizontal",
            "min": 0,
            "description_tooltip": null,
            "_model_module": "@jupyter-widgets/controls",
            "layout": "IPY_MODEL_6dbba6a7e7bc4e1396548765457498cc"
          }
        },
        "680ec3be8aaa48fe8c4ff358b81aae39": {
          "model_module": "@jupyter-widgets/controls",
          "model_name": "HTMLModel",
          "state": {
            "_view_name": "HTMLView",
            "style": "IPY_MODEL_274b6ade28c741e5b12b44f25f8caad9",
            "_dom_classes": [],
            "description": "",
            "_model_name": "HTMLModel",
            "placeholder": "​",
            "_view_module": "@jupyter-widgets/controls",
            "_model_module_version": "1.5.0",
            "value": " 4/4 [00:06&lt;00:00,  1.54s/it]",
            "_view_count": null,
            "_view_module_version": "1.5.0",
            "description_tooltip": null,
            "_model_module": "@jupyter-widgets/controls",
            "layout": "IPY_MODEL_44c9e86b751a4ee9a5788fa5a9530a3b"
          }
        },
        "1db7ef976ad943cda4ee22c0e026d597": {
          "model_module": "@jupyter-widgets/controls",
          "model_name": "ProgressStyleModel",
          "state": {
            "_view_name": "StyleView",
            "_model_name": "ProgressStyleModel",
            "description_width": "initial",
            "_view_module": "@jupyter-widgets/base",
            "_model_module_version": "1.5.0",
            "_view_count": null,
            "_view_module_version": "1.2.0",
            "bar_color": null,
            "_model_module": "@jupyter-widgets/controls"
          }
        },
        "6dbba6a7e7bc4e1396548765457498cc": {
          "model_module": "@jupyter-widgets/base",
          "model_name": "LayoutModel",
          "state": {
            "_view_name": "LayoutView",
            "grid_template_rows": null,
            "right": null,
            "justify_content": null,
            "_view_module": "@jupyter-widgets/base",
            "overflow": null,
            "_model_module_version": "1.2.0",
            "_view_count": null,
            "flex_flow": null,
            "width": null,
            "min_width": null,
            "border": null,
            "align_items": null,
            "bottom": null,
            "_model_module": "@jupyter-widgets/base",
            "top": null,
            "grid_column": null,
            "overflow_y": null,
            "overflow_x": null,
            "grid_auto_flow": null,
            "grid_area": null,
            "grid_template_columns": null,
            "flex": null,
            "_model_name": "LayoutModel",
            "justify_items": null,
            "grid_row": null,
            "max_height": null,
            "align_content": null,
            "visibility": null,
            "align_self": null,
            "height": null,
            "min_height": null,
            "padding": null,
            "grid_auto_rows": null,
            "grid_gap": null,
            "max_width": null,
            "order": null,
            "_view_module_version": "1.2.0",
            "grid_template_areas": null,
            "object_position": null,
            "object_fit": null,
            "grid_auto_columns": null,
            "margin": null,
            "display": null,
            "left": null
          }
        },
        "274b6ade28c741e5b12b44f25f8caad9": {
          "model_module": "@jupyter-widgets/controls",
          "model_name": "DescriptionStyleModel",
          "state": {
            "_view_name": "StyleView",
            "_model_name": "DescriptionStyleModel",
            "description_width": "",
            "_view_module": "@jupyter-widgets/base",
            "_model_module_version": "1.5.0",
            "_view_count": null,
            "_view_module_version": "1.2.0",
            "_model_module": "@jupyter-widgets/controls"
          }
        },
        "44c9e86b751a4ee9a5788fa5a9530a3b": {
          "model_module": "@jupyter-widgets/base",
          "model_name": "LayoutModel",
          "state": {
            "_view_name": "LayoutView",
            "grid_template_rows": null,
            "right": null,
            "justify_content": null,
            "_view_module": "@jupyter-widgets/base",
            "overflow": null,
            "_model_module_version": "1.2.0",
            "_view_count": null,
            "flex_flow": null,
            "width": null,
            "min_width": null,
            "border": null,
            "align_items": null,
            "bottom": null,
            "_model_module": "@jupyter-widgets/base",
            "top": null,
            "grid_column": null,
            "overflow_y": null,
            "overflow_x": null,
            "grid_auto_flow": null,
            "grid_area": null,
            "grid_template_columns": null,
            "flex": null,
            "_model_name": "LayoutModel",
            "justify_items": null,
            "grid_row": null,
            "max_height": null,
            "align_content": null,
            "visibility": null,
            "align_self": null,
            "height": null,
            "min_height": null,
            "padding": null,
            "grid_auto_rows": null,
            "grid_gap": null,
            "max_width": null,
            "order": null,
            "_view_module_version": "1.2.0",
            "grid_template_areas": null,
            "object_position": null,
            "object_fit": null,
            "grid_auto_columns": null,
            "margin": null,
            "display": null,
            "left": null
          }
        }
      }
    }
  },
  "cells": [
    {
      "cell_type": "markdown",
      "metadata": {
        "id": "view-in-github",
        "colab_type": "text"
      },
      "source": [
        "<a href=\"https://colab.research.google.com/github/aneeshbal/SimpylCellCounter/blob/master/examples/scc_colab.ipynb\" target=\"_parent\"><img src=\"https://colab.research.google.com/assets/colab-badge.svg\" alt=\"Open In Colab\"/></a>"
      ]
    },
    {
      "cell_type": "markdown",
      "metadata": {
        "id": "pWLo_m-FeYDi",
        "colab_type": "text"
      },
      "source": [
        "## Initialize Session"
      ]
    },
    {
      "cell_type": "markdown",
      "metadata": {
        "id": "7mL5jtgRfMnr",
        "colab_type": "text"
      },
      "source": [
        "##### 1. First step, go to \"Runtime\" -> \"Change runtime type\", under \"Hardware Accelerator, select \"GPU\""
      ]
    },
    {
      "cell_type": "code",
      "metadata": {
        "id": "rqSpz5B1eV2H",
        "colab_type": "code",
        "colab": {}
      },
      "source": [
        "# please note that tensorflow version 1.0 is selected since original model was created in 1.0\n",
        "\n",
        "%tensorflow_version 1.x\n",
        "import numpy as np\n",
        "import cv2\n",
        "import matplotlib.pyplot as plt\n",
        "import time\n",
        "import pandas as pd\n",
        "import math\n",
        "import os\n",
        "from tqdm.notebook import tqdm\n",
        "\n",
        "import tensorflow as tf\n",
        "from tensorflow.keras.models import load_model\n",
        "from tensorflow.keras.utils import get_file"
      ],
      "execution_count": 0,
      "outputs": []
    },
    {
      "cell_type": "markdown",
      "metadata": {
        "id": "sKmmUd_KfTAw",
        "colab_type": "text"
      },
      "source": [
        "##### 2. Connect your google drive to the colab session"
      ]
    },
    {
      "cell_type": "code",
      "metadata": {
        "id": "lpgtY13weZVz",
        "colab_type": "code",
        "colab": {
          "base_uri": "https://localhost:8080/",
          "height": 51
        },
        "outputId": "8bba01ae-276f-4aec-99a6-3b7bf062a528"
      },
      "source": [
        "from google.colab import drive\n",
        "drive.mount('/content/drive')\n",
        "%cd /content/drive/My Drive"
      ],
      "execution_count": 2,
      "outputs": [
        {
          "output_type": "stream",
          "text": [
            "Drive already mounted at /content/drive; to attempt to forcibly remount, call drive.mount(\"/content/drive\", force_remount=True).\n",
            "/content/drive/My Drive\n"
          ],
          "name": "stdout"
        }
      ]
    },
    {
      "cell_type": "markdown",
      "metadata": {
        "id": "J4LwWxD1fhoq",
        "colab_type": "text"
      },
      "source": [
        "##### 3. Read in functions and load model"
      ]
    },
    {
      "cell_type": "code",
      "metadata": {
        "id": "sUqrwDAXfZyB",
        "colab_type": "code",
        "colab": {
          "base_uri": "https://localhost:8080/",
          "height": 68
        },
        "outputId": "25e97cc1-44a5-4617-a283-6853445364ee"
      },
      "source": [
        "%cd /content/drive/My Drive\n",
        "!git clone https://github.com/aneeshbal/SimpylCellCounter.git\n",
        "%cd /content/drive/My Drive/SimpylCellCounter/scc/1.1x"
      ],
      "execution_count": 3,
      "outputs": [
        {
          "output_type": "stream",
          "text": [
            "/content/drive/My Drive\n",
            "fatal: destination path 'SimpylCellCounter' already exists and is not an empty directory.\n",
            "/content/drive/My Drive/SimpylCellCounter/scc/1.1x\n"
          ],
          "name": "stdout"
        }
      ]
    },
    {
      "cell_type": "code",
      "metadata": {
        "id": "CX3FIv6lizfN",
        "colab_type": "code",
        "colab": {
          "base_uri": "https://localhost:8080/",
          "height": 88
        },
        "outputId": "a51e1f25-4abb-4cb4-8de7-50ff4bce1396"
      },
      "source": [
        "from scc import scc\n",
        "model = load_model('model_save.h5')"
      ],
      "execution_count": 4,
      "outputs": [
        {
          "output_type": "stream",
          "text": [
            "WARNING:tensorflow:From /tensorflow-1.15.2/python3.6/tensorflow_core/python/ops/resource_variable_ops.py:1630: calling BaseResourceVariable.__init__ (from tensorflow.python.ops.resource_variable_ops) with constraint is deprecated and will be removed in a future version.\n",
            "Instructions for updating:\n",
            "If using Keras pass *_constraint arguments to layers.\n"
          ],
          "name": "stdout"
        }
      ]
    },
    {
      "cell_type": "markdown",
      "metadata": {
        "id": "9kxemtbDk4HL",
        "colab_type": "text"
      },
      "source": [
        "## Upload Data\n",
        "\n"
      ]
    },
    {
      "cell_type": "markdown",
      "metadata": {
        "id": "lMkX4ZVvmCdg",
        "colab_type": "text"
      },
      "source": [
        "##### 4. Under the main \"My Drive\" folder, upload a folder with your images...wait a few minutes since sometimes the sync can be slow"
      ]
    },
    {
      "cell_type": "markdown",
      "metadata": {
        "id": "11IzvIOemR0F",
        "colab_type": "text"
      },
      "source": [
        "## Run SCC"
      ]
    },
    {
      "cell_type": "markdown",
      "metadata": {
        "id": "a_kH-3QimJFm",
        "colab_type": "text"
      },
      "source": [
        "##### 5. For the \"image_path\" variable, type in the appropriate folder name that contains your images"
      ]
    },
    {
      "cell_type": "code",
      "metadata": {
        "id": "WQFY5w0zk5IJ",
        "colab_type": "code",
        "colab": {}
      },
      "source": [
        "image_path = '/content/drive/My Drive/images' # replace 'sample_images' with appropriate folder name"
      ],
      "execution_count": 0,
      "outputs": []
    },
    {
      "cell_type": "code",
      "metadata": {
        "id": "si0hyaGCn2iD",
        "colab_type": "code",
        "colab": {
          "base_uri": "https://localhost:8080/",
          "height": 85
        },
        "outputId": "e81a9db4-253f-4a2b-8b7a-23995a691f9c"
      },
      "source": [
        "roots = []\n",
        "[roots.append(root) for root, dirs, files in os.walk(image_path)]\n",
        "roots.pop(0)\n",
        "roots \n",
        "## ensure that the printed output looks correct in terms of where the images are located within the images folder"
      ],
      "execution_count": 6,
      "outputs": [
        {
          "output_type": "execute_result",
          "data": {
            "text/plain": [
              "['/content/drive/My Drive/images/D',\n",
              " '/content/drive/My Drive/images/B',\n",
              " '/content/drive/My Drive/images/Q',\n",
              " '/content/drive/My Drive/images/G']"
            ]
          },
          "metadata": {
            "tags": []
          },
          "execution_count": 6
        }
      ]
    },
    {
      "cell_type": "code",
      "metadata": {
        "id": "89_cpBCDn3ue",
        "colab_type": "code",
        "colab": {
          "base_uri": "https://localhost:8080/",
          "height": 66,
          "referenced_widgets": [
            "8d45c648c5bb485a8be93bf3ada0454a",
            "63166d274e46424685113e7728c53917",
            "592789803b224e5ab620d48f33f540c7",
            "680ec3be8aaa48fe8c4ff358b81aae39",
            "1db7ef976ad943cda4ee22c0e026d597",
            "6dbba6a7e7bc4e1396548765457498cc",
            "274b6ade28c741e5b12b44f25f8caad9",
            "44c9e86b751a4ee9a5788fa5a9530a3b"
          ]
        },
        "outputId": "717b1407-f71b-4fe7-eb31-2c50e60c4926"
      },
      "source": [
        "## rememeber, scc parameters are as follows:\n",
        "## scc(read, model, set_th_value=150, radius=10, circularity_parameter=0.77)\n",
        "## 'read' = image to be read, don't change this!\n",
        "## 'model' = CNN model to-be-used, don't change this!\n",
        "## 'set_th_value' = binary threshold value set at default to 150, can be changed to any value!\n",
        "## 'radius' = radius for cells set at default to 10, can be changed to any value!\n",
        "## 'circularity_parameter' = how circular cells should be set at default to 0.77, can be changed to any value! The lower the value, ...\n",
        "## the less circular cells will be tolerated\n",
        "\n",
        "\n",
        "output = []\n",
        "img_track = []\n",
        "for p in tqdm(roots):\n",
        "  images = os.listdir(p)\n",
        "  for im in images:\n",
        "    img_path = os.path.join(p, im)\n",
        "    img = cv2.imread(img_path, cv2.IMREAD_GRAYSCALE)\n",
        "    output.append(scc(read=img, model=model, set_th_value=115, circularity_parameter=0.7))\n",
        "    img_track.append(im)"
      ],
      "execution_count": 33,
      "outputs": [
        {
          "output_type": "display_data",
          "data": {
            "application/vnd.jupyter.widget-view+json": {
              "model_id": "8d45c648c5bb485a8be93bf3ada0454a",
              "version_minor": 0,
              "version_major": 2
            },
            "text/plain": [
              "HBox(children=(IntProgress(value=0, max=4), HTML(value='')))"
            ]
          },
          "metadata": {
            "tags": []
          }
        },
        {
          "output_type": "stream",
          "text": [
            "\n"
          ],
          "name": "stdout"
        }
      ]
    },
    {
      "cell_type": "markdown",
      "metadata": {
        "id": "Qofw5AxcsAWG",
        "colab_type": "text"
      },
      "source": [
        "## Save Output"
      ]
    },
    {
      "cell_type": "code",
      "metadata": {
        "id": "g9nPEiu2r_uH",
        "colab_type": "code",
        "colab": {}
      },
      "source": [
        "from time import gmtime, strftime\n",
        "save_output = pd.DataFrame({'image':img_track,'counts':output})\n",
        "save_output.set_index('image')\n",
        "save_output.to_csv('/content/drive/My Drive/scc_output{}.csv'.format(strftime(\"%Y-%m-%d %H:%M:%S\", gmtime())))"
      ],
      "execution_count": 0,
      "outputs": []
    }
  ]
}
